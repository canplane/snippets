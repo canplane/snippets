{
 "cells": [
  {
   "cell_type": "markdown",
   "id": "6358b772-7bf7-4a18-b95d-f9a8e31c228b",
   "metadata": {},
   "source": [
    "# Lab-05 Logistic Regression\n",
    "\n",
    "- Reminder\n",
    "- Computing Hypothesis\n",
    "- Computing Cost Function\n",
    "- Evaluation\n",
    "- Higher Implementation"
   ]
  },
  {
   "cell_type": "markdown",
   "id": "c3140063-f4b5-425b-a7ee-40630c4ad700",
   "metadata": {},
   "source": [
    "Binary Classification Problem\n",
    "\n",
    "**Hypothesis** $H(X) = \\frac{1}{1+e^{-W^{T}X}}$\n",
    "\n",
    "**Cost** $cost(W) = -\\frac{1}{m} \\sum y \\log (H(x)) + (1-y)(\\log(1-H(x)))$\n",
    "\n",
    "- if $y \\approx H(x)$, cost is near 0.\n",
    "- if $y \\neq H(x)$, cost is high.\n",
    "\n",
    "$H(x) = P(x=1; W) = 1 - P(x=0; W)$"
   ]
  },
  {
   "cell_type": "markdown",
   "id": "061c1e35-bbe3-4279-aa1a-010a6624e9b1",
   "metadata": {},
   "source": [
    "## Weight Update via Gradient Descent\n",
    "\n",
    "$W := W - \\alpha \\frac{\\partial}{\\partial W} cost(W) (= W - \\alpha \\nabla_W cost(W))$"
   ]
  },
  {
   "cell_type": "code",
   "execution_count": 1,
   "id": "578e5e16-3cfa-4ae2-a507-d54878b54a5f",
   "metadata": {},
   "outputs": [],
   "source": [
    "import torch\n",
    "import torch.nn as nn\n",
    "import torch.nn.functional as F\n",
    "import torch.optim as optim"
   ]
  },
  {
   "cell_type": "code",
   "execution_count": 3,
   "id": "d75ed630-29c5-4c67-be95-2a64dfdedf0b",
   "metadata": {},
   "outputs": [
    {
     "data": {
      "text/plain": [
       "<torch._C.Generator at 0x7fd7a01e9f10>"
      ]
     },
     "execution_count": 3,
     "metadata": {},
     "output_type": "execute_result"
    }
   ],
   "source": [
    "# For reproducibility # 계속 똑같은 결과를 재현해 주기 위해 시드 정해놓기\n",
    "torch.manual_seed(1)"
   ]
  },
  {
   "cell_type": "code",
   "execution_count": 8,
   "id": "5646ec4c-ecf0-490d-8891-a02f9b040f24",
   "metadata": {},
   "outputs": [],
   "source": [
    "x_data = [[1, 2], [2, 3], [3, 1], [4, 3], [5, 3], [6, 2]]  # |x_data| = (6, 2)\n",
    "y_data = [[0], [0], [0], [1], [1], [1]]                    # |y_data| = (6, 1)"
   ]
  },
  {
   "cell_type": "code",
   "execution_count": 6,
   "id": "05260e30-744f-4164-a01f-8a4c31f6d274",
   "metadata": {},
   "outputs": [],
   "source": [
    "x_train = torch.FloatTensor(x_data)\n",
    "y_train = torch.FloatTensor(y_data)"
   ]
  },
  {
   "cell_type": "code",
   "execution_count": 7,
   "id": "5f911ff3-3930-40c0-b673-1222ddfa2492",
   "metadata": {},
   "outputs": [
    {
     "name": "stdout",
     "output_type": "stream",
     "text": [
      "torch.Size([6, 2])\n",
      "torch.Size([6, 1])\n"
     ]
    }
   ],
   "source": [
    "print(x_train.shape)\n",
    "print(y_train.shape)"
   ]
  },
  {
   "cell_type": "code",
   "execution_count": 9,
   "id": "3aac5660-a14e-4edb-ad3d-de7862d41778",
   "metadata": {},
   "outputs": [
    {
     "name": "stdout",
     "output_type": "stream",
     "text": [
      "e^1 equals:  tensor([2.7183])\n"
     ]
    }
   ],
   "source": [
    "print(\"e^1 equals: \", torch.exp(torch.FloatTensor([1])))"
   ]
  },
  {
   "cell_type": "code",
   "execution_count": 10,
   "id": "d9b02c98-b219-44b9-a3a0-c6c6316c924e",
   "metadata": {},
   "outputs": [],
   "source": [
    "W = torch.zeros((2, 1), requires_grad=True)\n",
    "b = torch.zeros(1, requires_grad=True)"
   ]
  },
  {
   "cell_type": "code",
   "execution_count": 11,
   "id": "b7eb193b-a156-4642-a44d-dd2c6af47be0",
   "metadata": {},
   "outputs": [],
   "source": [
    "hypothesis = 1 / (1 + torch.exp(-(x_train.matmul(W) + b)))"
   ]
  },
  {
   "cell_type": "code",
   "execution_count": 12,
   "id": "6faf66a9-8b17-4ac6-9d07-1928ca5f9437",
   "metadata": {},
   "outputs": [
    {
     "name": "stdout",
     "output_type": "stream",
     "text": [
      "tensor([[0.5000],\n",
      "        [0.5000],\n",
      "        [0.5000],\n",
      "        [0.5000],\n",
      "        [0.5000],\n",
      "        [0.5000]], grad_fn=<MulBackward0>)\n",
      "torch.Size([6, 1])\n"
     ]
    }
   ],
   "source": [
    "print(hypothesis)\n",
    "print(hypothesis.shape)"
   ]
  },
  {
   "cell_type": "markdown",
   "id": "116906b7-1f32-4dc8-b64a-619903d83185",
   "metadata": {},
   "source": [
    "## Computing the Hypothesis\n",
    "\n",
    "Or, we could use `torch.sigmoid()` function! This resembles the sigmoid function:"
   ]
  },
  {
   "cell_type": "code",
   "execution_count": 13,
   "id": "9f6919a0-17c5-48fd-a173-b941d31a030c",
   "metadata": {},
   "outputs": [
    {
     "name": "stdout",
     "output_type": "stream",
     "text": [
      "1/(1+e^{-1}) equals:  tensor([0.7311])\n"
     ]
    }
   ],
   "source": [
    "print(\"1/(1+e^{-1}) equals: \", torch.sigmoid(torch.FloatTensor([1])))"
   ]
  },
  {
   "cell_type": "code",
   "execution_count": 24,
   "id": "156cc66f-5674-46f8-8e38-52058b62aad5",
   "metadata": {},
   "outputs": [],
   "source": [
    "# Now, the code for hypothesis function is cleaner\n",
    "hypothesis = torch.sigmoid(x_train.matmul(W) + b)"
   ]
  },
  {
   "cell_type": "code",
   "execution_count": 15,
   "id": "580ac153-c3bc-4b22-b80f-79fd2b361247",
   "metadata": {},
   "outputs": [
    {
     "name": "stdout",
     "output_type": "stream",
     "text": [
      "tensor([[0.5000],\n",
      "        [0.5000],\n",
      "        [0.5000],\n",
      "        [0.5000],\n",
      "        [0.5000],\n",
      "        [0.5000]], grad_fn=<SigmoidBackward0>)\n",
      "torch.Size([6, 1])\n"
     ]
    }
   ],
   "source": [
    "print(hypothesis)\n",
    "print(hypothesis.shape)"
   ]
  },
  {
   "cell_type": "markdown",
   "id": "74516346-6ada-4c38-bfbb-35b8764b1e3d",
   "metadata": {},
   "source": [
    "We want to measure the difference between `hypothesis` and `y_train`."
   ]
  },
  {
   "cell_type": "code",
   "execution_count": 17,
   "id": "7c50a64e-75ba-4527-bc39-385727e3ab7c",
   "metadata": {},
   "outputs": [
    {
     "name": "stdout",
     "output_type": "stream",
     "text": [
      "tensor([[0.5000],\n",
      "        [0.5000],\n",
      "        [0.5000],\n",
      "        [0.5000],\n",
      "        [0.5000],\n",
      "        [0.5000]], grad_fn=<SigmoidBackward0>)\n",
      "tensor([[0.],\n",
      "        [0.],\n",
      "        [0.],\n",
      "        [1.],\n",
      "        [1.],\n",
      "        [1.]])\n"
     ]
    }
   ],
   "source": [
    "print(hypothesis)\n",
    "print(y_train)"
   ]
  },
  {
   "cell_type": "markdown",
   "id": "92a13c49-8905-4740-ac4e-3a32fe4e2652",
   "metadata": {},
   "source": [
    "```\n",
    "-(y_train[0] * torch.log(hypothesis[0]) + (1 - y_train[0]) * torch.log(1 - hypothesis[0]))\n",
    "```"
   ]
  },
  {
   "cell_type": "code",
   "execution_count": 19,
   "id": "91cbe604-5bbc-4882-91ca-e1b302f75f27",
   "metadata": {},
   "outputs": [
    {
     "name": "stdout",
     "output_type": "stream",
     "text": [
      "tensor([[0.6931],\n",
      "        [0.6931],\n",
      "        [0.6931],\n",
      "        [0.6931],\n",
      "        [0.6931],\n",
      "        [0.6931]], grad_fn=<NegBackward0>)\n"
     ]
    }
   ],
   "source": [
    "losses = -(y_train * torch.log(hypothesis) + (1 - y_train) * torch.log(1 - hypothesis))\n",
    "print(losses)"
   ]
  },
  {
   "cell_type": "markdown",
   "id": "99d0d909-f993-4210-9b0f-a8eb6fe7f555",
   "metadata": {},
   "source": [
    "Then, we just `.mean()` to take the mean of these individual losses."
   ]
  },
  {
   "cell_type": "code",
   "execution_count": 20,
   "id": "05f93e84-cea6-4eb9-a2bd-a3337a7be560",
   "metadata": {},
   "outputs": [
    {
     "name": "stdout",
     "output_type": "stream",
     "text": [
      "tensor(0.6931, grad_fn=<MeanBackward0>)\n"
     ]
    }
   ],
   "source": [
    "cost = losses.mean()\n",
    "print(cost)"
   ]
  },
  {
   "cell_type": "code",
   "execution_count": 22,
   "id": "6298b6d3-29f6-4a90-8df7-2693f03198e7",
   "metadata": {},
   "outputs": [
    {
     "data": {
      "text/plain": [
       "tensor(0.6931, grad_fn=<BinaryCrossEntropyBackward0>)"
      ]
     },
     "execution_count": 22,
     "metadata": {},
     "output_type": "execute_result"
    }
   ],
   "source": [
    "F.binary_cross_entropy(hypothesis, y_train)  # abbr. bce"
   ]
  },
  {
   "cell_type": "markdown",
   "id": "41b43a8d-b507-40a7-b919-7e951b0c3980",
   "metadata": {},
   "source": [
    "## Whole Training Procedure"
   ]
  },
  {
   "cell_type": "code",
   "execution_count": 23,
   "id": "2c3a1afd-8fc8-4aef-b481-fcac40acc13a",
   "metadata": {},
   "outputs": [
    {
     "name": "stdout",
     "output_type": "stream",
     "text": [
      "Epoch    0/1000 Cost: 0.693147\n",
      "Epoch  100/1000 Cost: 0.134722\n",
      "Epoch  200/1000 Cost: 0.080643\n",
      "Epoch  300/1000 Cost: 0.057900\n",
      "Epoch  400/1000 Cost: 0.045300\n",
      "Epoch  500/1000 Cost: 0.037261\n",
      "Epoch  600/1000 Cost: 0.031673\n",
      "Epoch  700/1000 Cost: 0.027556\n",
      "Epoch  800/1000 Cost: 0.024394\n",
      "Epoch  900/1000 Cost: 0.021888\n",
      "Epoch 1000/1000 Cost: 0.019852\n"
     ]
    }
   ],
   "source": [
    "# 모델 초기화\n",
    "W = torch.zeros((2, 1), requires_grad=True)\n",
    "b = torch.zeros(1, requires_grad=True)\n",
    "# optimizer 설정\n",
    "optimizer = optim.SGD([W, b], lr=1)\n",
    "\n",
    "nb_epochs = 1000\n",
    "for epoch in range(nb_epochs + 1):\n",
    "    \n",
    "    # Cost 계산\n",
    "    hypothesis = torch.sigmoid(x_train.matmul(W) + b)  # or .mm or @\n",
    "    cost = F.binary_cross_entropy(hypothesis, y_train)\n",
    "    \n",
    "    # cost로 H(x) 개선\n",
    "    optimizer.zero_grad()   # 기존에 혹시나 gradient를 구해놓은 게 있으면 0으로 초기화\n",
    "    cost.backward()         # cost에 back propagation 수행 (W, b에는 gradient가 구해져 있을 것)\n",
    "    optimizer.step()        # minimize하는 방향으로 W, b를 갱신할 것.\n",
    "    \n",
    "    # 100번마다 로그 출력\n",
    "    if epoch % 100 == 0:\n",
    "        print(\"Epoch {:4d}/{} Cost: {:.6f}\".format(epoch, nb_epochs, cost.item()))\n",
    "    "
   ]
  },
  {
   "cell_type": "markdown",
   "id": "85e906d5-8321-4850-8b11-eaaa77d78379",
   "metadata": {},
   "source": [
    "## Evaluation\n",
    "After we finish training the model, we want to check how well our model fits the training set."
   ]
  },
  {
   "cell_type": "code",
   "execution_count": 28,
   "id": "580f87d7-09e6-4da4-8235-045323865b6a",
   "metadata": {},
   "outputs": [
    {
     "name": "stdout",
     "output_type": "stream",
     "text": [
      "tensor([[2.7648e-04],\n",
      "        [3.1608e-02],\n",
      "        [3.8977e-02],\n",
      "        [9.5622e-01],\n",
      "        [9.9823e-01]], grad_fn=<SliceBackward0>)\n"
     ]
    }
   ],
   "source": [
    "hypothesis = torch.sigmoid(x_train.matmul(W) + b)   # x_train -> x_test\n",
    "print(hypothesis[:5])"
   ]
  },
  {
   "cell_type": "markdown",
   "id": "bff608b1-5849-4c91-89a6-134223e6e5f5",
   "metadata": {},
   "source": [
    "We can change **hypothesis** (real number from 0 to 1) to **binary predictions** (either 0 or 1) by comparing them to 0.5."
   ]
  },
  {
   "cell_type": "code",
   "execution_count": 35,
   "id": "b2e86e0b-49be-44bf-a3f0-8feed4de6f58",
   "metadata": {},
   "outputs": [
    {
     "name": "stdout",
     "output_type": "stream",
     "text": [
      "tensor([[False],\n",
      "        [False],\n",
      "        [False],\n",
      "        [ True],\n",
      "        [ True]])\n"
     ]
    }
   ],
   "source": [
    "prediction = hypothesis >= torch.FloatTensor([0.5])   # ByteTensor\n",
    "print(prediction[:5])"
   ]
  },
  {
   "cell_type": "code",
   "execution_count": 39,
   "id": "a0e79847-170d-4d9d-9419-5eb9e044ad44",
   "metadata": {},
   "outputs": [
    {
     "name": "stdout",
     "output_type": "stream",
     "text": [
      "tensor([[False],\n",
      "        [False],\n",
      "        [False],\n",
      "        [ True],\n",
      "        [ True]])\n",
      "tensor([[0.],\n",
      "        [0.],\n",
      "        [0.],\n",
      "        [1.],\n",
      "        [1.]])\n"
     ]
    }
   ],
   "source": [
    "# 얼마나 정확한데?\n",
    "print(prediction[:5])\n",
    "print(y_train[:5])"
   ]
  },
  {
   "cell_type": "code",
   "execution_count": 45,
   "id": "b76706e3-999a-44f1-bd53-69323e57192c",
   "metadata": {},
   "outputs": [
    {
     "name": "stdout",
     "output_type": "stream",
     "text": [
      "tensor([[True],\n",
      "        [True],\n",
      "        [True],\n",
      "        [True],\n",
      "        [True]])\n"
     ]
    }
   ],
   "source": [
    "correct_prediction = prediction.float() == y_train\n",
    "print(correct_prediction[:5])\n",
    "# 굉장히 잘 예측되었다!\n",
    "# 평균을 내 보면 accuracy, 모델의 정확도를 구할 수 있을 것! (correct_prediction.float().mean())"
   ]
  },
  {
   "cell_type": "markdown",
   "id": "6bedfa86-325a-4f18-87b1-800d7599aa3e",
   "metadata": {},
   "source": [
    "## Higher Implementation with Class\n",
    "\n",
    "훈련과 평가에 대해 살펴보았는데, 사실은 좀 naive한 형태로 구현이 된 거니 실제 구현은 다음과 같은 방식이 될 것."
   ]
  },
  {
   "cell_type": "code",
   "execution_count": 58,
   "id": "0e124ea8-dbae-44b6-8be1-69cefafa761d",
   "metadata": {},
   "outputs": [],
   "source": [
    "class BinaryClassifier(nn.Module):\n",
    "    def __init__(self):\n",
    "        super().__init__()\n",
    "        # W, b가 다 들어있는 linear layer! (self.linear = {w, b})\n",
    "        # w E R^(8x1), b E R^1\n",
    "        self.linear = nn.Linear(2, 1)     # d=2, m=8\n",
    "        self.sigmoid = nn.Sigmoid()\n",
    "        \n",
    "    def forward(self, x):\n",
    "        return self.sigmoid(self.linear(x))"
   ]
  },
  {
   "cell_type": "code",
   "execution_count": 59,
   "id": "bb26c98d-ca5f-4a47-bea1-32db441ace4b",
   "metadata": {},
   "outputs": [],
   "source": [
    "model = BinaryClassifier()"
   ]
  },
  {
   "cell_type": "code",
   "execution_count": 64,
   "id": "a6a87edb-bfa8-42e8-9746-9561c6f0965d",
   "metadata": {},
   "outputs": [
    {
     "name": "stdout",
     "output_type": "stream",
     "text": [
      "Epoch    0/100 Cost: 0.057607 Accuracy 100.00%\n",
      "Epoch   10/100 Cost: 0.056049 Accuracy 100.00%\n",
      "Epoch   20/100 Cost: 0.054574 Accuracy 100.00%\n",
      "Epoch   30/100 Cost: 0.053176 Accuracy 100.00%\n",
      "Epoch   40/100 Cost: 0.051850 Accuracy 100.00%\n",
      "Epoch   50/100 Cost: 0.050590 Accuracy 100.00%\n",
      "Epoch   60/100 Cost: 0.049391 Accuracy 100.00%\n",
      "Epoch   70/100 Cost: 0.048248 Accuracy 100.00%\n",
      "Epoch   80/100 Cost: 0.047158 Accuracy 100.00%\n",
      "Epoch   90/100 Cost: 0.046117 Accuracy 100.00%\n",
      "Epoch  100/100 Cost: 0.045122 Accuracy 100.00%\n"
     ]
    }
   ],
   "source": [
    "# optimizer 설정\n",
    "optimizer = optim.SGD(model.parameters(), lr=1)\n",
    "\n",
    "nb_epochs = 100\n",
    "for epoch in range(nb_epochs + 1):\n",
    "    \n",
    "    # H(x) 계산\n",
    "    hypothesis = model(x_train)      # H(x) => P(x=1) (즉 1일 확률)\n",
    "    \n",
    "    # cost 계산\n",
    "    cost = F.binary_cross_entropy(hypothesis, y_train)\n",
    "    \n",
    "    # cost로 H(x) 개선\n",
    "    optimizer.zero_grad()\n",
    "    cost.backward()\n",
    "    optimizer.step()\n",
    "    \n",
    "    # 20번마다 로그 출력\n",
    "    if epoch % 10 == 0:\n",
    "        prediction = hypothesis >= torch.FloatTensor([0.5])\n",
    "        corrent_prediction = prediction.float() == y_train\n",
    "        accuracy = correct_prediction.sum().item() / len(correct_prediction)\n",
    "        print(\"Epoch {:4d}/{} Cost: {:.6f} Accuracy {:2.2f}%\".format(\n",
    "            epoch, nb_epochs, cost.item(), accuracy * 100,\n",
    "        ))"
   ]
  }
 ],
 "metadata": {
  "kernelspec": {
   "display_name": "Python 3 (ipykernel)",
   "language": "python",
   "name": "python3"
  },
  "language_info": {
   "codemirror_mode": {
    "name": "ipython",
    "version": 3
   },
   "file_extension": ".py",
   "mimetype": "text/x-python",
   "name": "python",
   "nbconvert_exporter": "python",
   "pygments_lexer": "ipython3",
   "version": "3.9.13"
  }
 },
 "nbformat": 4,
 "nbformat_minor": 5
}
