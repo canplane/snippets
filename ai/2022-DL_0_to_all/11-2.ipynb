{
 "cells": [
  {
   "cell_type": "markdown",
   "id": "2a1e6f42-e6c2-4132-96db-3446cfa1087b",
   "metadata": {},
   "source": [
    "# Lab-11-2 RNN - hihello / charseq\n",
    "- 'Hihello' problem\n",
    "- Data setting\n",
    "    - One hot encoding\n",
    "- Cross entropy loss\n",
    "- Code run through\n",
    "\n",
    "## 'hihello' problem\n",
    "- 'h', 'i', 'h', 'e', 'l', 'l', 'o'\n",
    "- We will predict the next character!\n",
    "- How can we represent characters in PyTorch?\n",
    "\n",
    "## one-hot encoding\n",
    "\n",
    "```\n",
    "# list of available characters\n",
    "char_set = ['h', 'i', 'e', 'l', 'o']\n",
    "x_data = [[0, 1, 0, 2, 3, 3]]\n",
    "x_one_hot = [[[1, 0, 0, 0, 0]\n",
    "             [0, 1, 0, 0, 0],\n",
    "             [1, 0, 0, 0, 0],\n",
    "             [0, 0, 1, 0, 0],\n",
    "             [0, 0, 0, 1, 0],\n",
    "             [0, 0, 0, 1, 0]]]\n",
    "y_data = [[1, 0, 2, 3, 3, 4]]\n",
    "```"
   ]
  },
  {
   "cell_type": "markdown",
   "id": "3b1cb3c9-d4db-4a8e-90e4-55b1003b0d11",
   "metadata": {
    "tags": []
   },
   "source": [
    "## Code run through (hihello)"
   ]
  },
  {
   "cell_type": "code",
   "execution_count": null,
   "id": "32672d41-898f-4239-91e9-24b7f3992bd1",
   "metadata": {},
   "outputs": [],
   "source": [
    "char_set = ['h', 'i', 'e', 'l', 'o']\n",
    "# hyper parameters\n",
    "input_size = len(char_set)\n",
    "hidden_size = len(char_set)\n",
    "learning_rate = 0.1\n",
    "# data setting\n",
    "x_data = [[0, 1, 0, 2, 3, 3]]\n",
    "x_one_hot = [[[1, 0, 0, 0, 0]\n",
    "             [0, 1, 0, 0, 0],\n",
    "             [1, 0, 0, 0, 0],\n",
    "             [0, 0, 1, 0, 0],\n",
    "             [0, 0, 0, 1, 0],\n",
    "             [0, 0, 0, 1, 0]]]\n",
    "y_data = [[1, 0, 2, 3, 3, 4]]\n",
    "\n",
    "# transform as torch tensor variable\n",
    "X = torch.FloatTensor(x_one_hot)\n",
    "Y = torch.LongTensor(y_data)"
   ]
  },
  {
   "cell_type": "markdown",
   "id": "c9e5b20b-6255-46b1-91c7-0aedcd19bd0b",
   "metadata": {},
   "source": [
    "## Code run through (charseq)"
   ]
  },
  {
   "cell_type": "code",
   "execution_count": 2,
   "id": "47a8e43d-4827-47ff-8e5b-ed03fd96b0ce",
   "metadata": {},
   "outputs": [
    {
     "data": {
      "text/plain": [
       "<torch._C.Generator at 0x7f8be153b030>"
      ]
     },
     "execution_count": 2,
     "metadata": {},
     "output_type": "execute_result"
    }
   ],
   "source": [
    "import torch\n",
    "import torch.optim as optim\n",
    "import numpy as np\n",
    "\n",
    "# Random seed to make results deterministic and reproducible\n",
    "torch.manual_seed(0)"
   ]
  },
  {
   "cell_type": "code",
   "execution_count": 3,
   "id": "336843f9-5f41-4cdb-96c5-9e3aabcd1ede",
   "metadata": {},
   "outputs": [
    {
     "name": "stdout",
     "output_type": "stream",
     "text": [
      "{'y': 0, 't': 1, ' ': 2, 'w': 3, 'a': 4, 'u': 5, 'i': 6, 'f': 7, 'o': 8, 'n': 9}\n"
     ]
    }
   ],
   "source": [
    "sample = \" if you want you\"\n",
    "\n",
    "# make dictionary\n",
    "char_set = list(set(sample))\n",
    "char_dic = {c: i for i, c in enumerate(char_set)}\n",
    "print(char_dic)"
   ]
  },
  {
   "cell_type": "code",
   "execution_count": 4,
   "id": "34bdd01e-d97b-4807-9dde-ed65c1590f3d",
   "metadata": {},
   "outputs": [
    {
     "name": "stderr",
     "output_type": "stream",
     "text": [
      "/var/folders/5f/hjkz04pn6gj7gkf81d1lrfgh0000gq/T/ipykernel_64955/1986353931.py:13: UserWarning: Creating a tensor from a list of numpy.ndarrays is extremely slow. Please consider converting the list to a single numpy.ndarray with numpy.array() before converting to a tensor. (Triggered internally at /Users/runner/work/pytorch/pytorch/pytorch/torch/csrc/utils/tensor_new.cpp:233.)\n",
      "  X = torch.FloatTensor(x_one_hot)\n"
     ]
    }
   ],
   "source": [
    "# hyper parameters\n",
    "dic_size = len(char_dic)\n",
    "hidden_size = len(char_dic)\n",
    "learning_rate = 0.1\n",
    "\n",
    "# data setting\n",
    "sample_idx = [char_dic[c] for c in sample]\n",
    "x_data = [sample_idx[:-1]]\n",
    "x_one_hot = [np.eye(dic_size)[x] for x in x_data]\n",
    "y_data = [sample_idx[1:]]\n",
    "\n",
    "# transform as torch tensor variable\n",
    "X = torch.FloatTensor(x_one_hot)\n",
    "Y = torch.LongTensor(y_data)"
   ]
  },
  {
   "cell_type": "code",
   "execution_count": 5,
   "id": "146d096b-e65f-4de5-84ba-acba5ddd1dcb",
   "metadata": {},
   "outputs": [],
   "source": [
    "# declare RNN\n",
    "input_size = len(char_set)\n",
    "hidden_size = len(char_set)\n",
    "rnn = torch.nn.RNN(dic_size, hidden_size, batch_first=True)  # batch_first guarantees the order of output = (B, S, F)\n",
    "\n",
    "# loss & optimizer setting\n",
    "criterion = torch.nn.CrossEntropyLoss()\n",
    "optimizer = optim.Adam(rnn.parameters(), learning_rate)"
   ]
  },
  {
   "cell_type": "code",
   "execution_count": 6,
   "id": "c8e0a39b-8893-4c46-8ae7-872cdbefad61",
   "metadata": {},
   "outputs": [
    {
     "name": "stdout",
     "output_type": "stream",
     "text": [
      "0 loss:  2.4754958152770996 prediction:  [[8 7 0 8 0 8 7 8 7 7 6 5 7 5 8]] true Y:  [[6, 7, 2, 0, 8, 5, 2, 3, 4, 9, 1, 2, 0, 8, 5]] prediction str:  ofyoyofoffiufuo\n",
      "1 loss:  2.1667628288269043 prediction:  [[8 7 0 2 8 8 2 8 7 8 3 2 7 8 8]] true Y:  [[6, 7, 2, 0, 8, 5, 2, 3, 4, 9, 1, 2, 0, 8, 5]] prediction str:  ofy oo ofow foo\n",
      "2 loss:  1.9596290588378906 prediction:  [[5 7 0 0 8 8 2 2 7 8 0 2 0 8 2]] true Y:  [[6, 7, 2, 0, 8, 5, 2, 3, 4, 9, 1, 2, 0, 8, 5]] prediction str:  ufyyoo  foy yo \n",
      "3 loss:  1.7423787117004395 prediction:  [[5 7 2 2 8 5 2 2 7 8 1 2 0 8 5]] true Y:  [[6, 7, 2, 0, 8, 5, 2, 3, 4, 9, 1, 2, 0, 8, 5]] prediction str:  uf  ou  fot you\n",
      "4 loss:  1.6107782125473022 prediction:  [[5 7 2 2 8 5 2 3 7 8 1 2 0 8 5]] true Y:  [[6, 7, 2, 0, 8, 5, 2, 3, 4, 9, 1, 2, 0, 8, 5]] prediction str:  uf  ou wfot you\n",
      "5 loss:  1.5029571056365967 prediction:  [[5 7 2 2 8 5 2 3 5 8 1 2 0 8 5]] true Y:  [[6, 7, 2, 0, 8, 5, 2, 3, 4, 9, 1, 2, 0, 8, 5]] prediction str:  uf  ou wuot you\n",
      "6 loss:  1.4177831411361694 prediction:  [[5 7 2 0 8 5 2 3 4 8 1 2 0 8 5]] true Y:  [[6, 7, 2, 0, 8, 5, 2, 3, 4, 9, 1, 2, 0, 8, 5]] prediction str:  uf you waot you\n",
      "7 loss:  1.3400986194610596 prediction:  [[5 7 2 0 8 5 2 3 4 8 1 2 0 8 5]] true Y:  [[6, 7, 2, 0, 8, 5, 2, 3, 4, 9, 1, 2, 0, 8, 5]] prediction str:  uf you waot you\n",
      "8 loss:  1.2744102478027344 prediction:  [[5 7 2 0 8 5 2 2 4 8 1 2 2 8 5]] true Y:  [[6, 7, 2, 0, 8, 5, 2, 3, 4, 9, 1, 2, 0, 8, 5]] prediction str:  uf you  aot  ou\n",
      "9 loss:  1.2262136936187744 prediction:  [[6 7 2 0 8 5 2 2 4 8 1 2 0 8 5]] true Y:  [[6, 7, 2, 0, 8, 5, 2, 3, 4, 9, 1, 2, 0, 8, 5]] prediction str:  if you  aot you\n",
      "10 loss:  1.2346514463424683 prediction:  [[6 7 2 0 8 5 2 2 4 8 1 2 2 8 5]] true Y:  [[6, 7, 2, 0, 8, 5, 2, 3, 4, 9, 1, 2, 0, 8, 5]] prediction str:  if you  aot  ou\n",
      "11 loss:  1.140504240989685 prediction:  [[6 7 2 0 8 5 2 2 4 8 1 2 0 8 5]] true Y:  [[6, 7, 2, 0, 8, 5, 2, 3, 4, 9, 1, 2, 0, 8, 5]] prediction str:  if you  aot you\n",
      "12 loss:  1.140087366104126 prediction:  [[6 7 2 0 8 5 2 3 4 8 1 2 0 8 5]] true Y:  [[6, 7, 2, 0, 8, 5, 2, 3, 4, 9, 1, 2, 0, 8, 5]] prediction str:  if you waot you\n",
      "13 loss:  1.132895827293396 prediction:  [[6 7 2 0 8 5 2 3 4 8 1 2 0 8 5]] true Y:  [[6, 7, 2, 0, 8, 5, 2, 3, 4, 9, 1, 2, 0, 8, 5]] prediction str:  if you waot you\n",
      "14 loss:  1.107595682144165 prediction:  [[6 7 2 0 8 5 2 3 4 8 1 2 0 8 5]] true Y:  [[6, 7, 2, 0, 8, 5, 2, 3, 4, 9, 1, 2, 0, 8, 5]] prediction str:  if you waot you\n",
      "15 loss:  1.0794692039489746 prediction:  [[6 7 2 0 8 5 2 3 4 8 1 2 0 8 5]] true Y:  [[6, 7, 2, 0, 8, 5, 2, 3, 4, 9, 1, 2, 0, 8, 5]] prediction str:  if you waot you\n",
      "16 loss:  1.054571270942688 prediction:  [[6 7 2 0 8 5 2 3 4 8 1 2 0 8 5]] true Y:  [[6, 7, 2, 0, 8, 5, 2, 3, 4, 9, 1, 2, 0, 8, 5]] prediction str:  if you waot you\n",
      "17 loss:  1.0481172800064087 prediction:  [[6 7 2 0 8 5 2 3 4 8 1 2 0 8 5]] true Y:  [[6, 7, 2, 0, 8, 5, 2, 3, 4, 9, 1, 2, 0, 8, 5]] prediction str:  if you waot you\n",
      "18 loss:  1.041921615600586 prediction:  [[6 7 2 0 8 5 2 3 4 8 1 2 0 8 5]] true Y:  [[6, 7, 2, 0, 8, 5, 2, 3, 4, 9, 1, 2, 0, 8, 5]] prediction str:  if you waot you\n",
      "19 loss:  1.0255475044250488 prediction:  [[6 7 2 0 8 5 2 3 4 8 1 2 0 8 5]] true Y:  [[6, 7, 2, 0, 8, 5, 2, 3, 4, 9, 1, 2, 0, 8, 5]] prediction str:  if you waot you\n",
      "20 loss:  1.009893774986267 prediction:  [[6 7 2 0 8 5 2 3 4 8 1 2 0 8 5]] true Y:  [[6, 7, 2, 0, 8, 5, 2, 3, 4, 9, 1, 2, 0, 8, 5]] prediction str:  if you waot you\n",
      "21 loss:  0.9949591159820557 prediction:  [[6 7 2 0 8 5 2 3 4 8 1 2 0 8 5]] true Y:  [[6, 7, 2, 0, 8, 5, 2, 3, 4, 9, 1, 2, 0, 8, 5]] prediction str:  if you waot you\n",
      "22 loss:  0.9795264601707458 prediction:  [[6 7 2 0 8 5 2 3 4 8 1 2 0 8 5]] true Y:  [[6, 7, 2, 0, 8, 5, 2, 3, 4, 9, 1, 2, 0, 8, 5]] prediction str:  if you waot you\n",
      "23 loss:  0.9640339016914368 prediction:  [[6 7 2 0 8 5 2 3 4 8 1 2 0 8 5]] true Y:  [[6, 7, 2, 0, 8, 5, 2, 3, 4, 9, 1, 2, 0, 8, 5]] prediction str:  if you waot you\n",
      "24 loss:  0.9517220854759216 prediction:  [[6 7 2 0 8 5 2 3 4 8 1 2 0 8 5]] true Y:  [[6, 7, 2, 0, 8, 5, 2, 3, 4, 9, 1, 2, 0, 8, 5]] prediction str:  if you waot you\n",
      "25 loss:  0.9469107985496521 prediction:  [[6 7 2 0 8 5 2 3 4 8 1 2 0 8 5]] true Y:  [[6, 7, 2, 0, 8, 5, 2, 3, 4, 9, 1, 2, 0, 8, 5]] prediction str:  if you waot you\n",
      "26 loss:  0.9400177597999573 prediction:  [[6 7 2 0 8 5 2 3 4 8 1 2 0 8 5]] true Y:  [[6, 7, 2, 0, 8, 5, 2, 3, 4, 9, 1, 2, 0, 8, 5]] prediction str:  if you waot you\n",
      "27 loss:  0.9252822399139404 prediction:  [[6 7 2 0 8 5 2 3 4 8 1 2 0 8 5]] true Y:  [[6, 7, 2, 0, 8, 5, 2, 3, 4, 9, 1, 2, 0, 8, 5]] prediction str:  if you waot you\n",
      "28 loss:  0.9148209691047668 prediction:  [[6 7 2 0 8 5 2 3 4 8 1 2 0 8 5]] true Y:  [[6, 7, 2, 0, 8, 5, 2, 3, 4, 9, 1, 2, 0, 8, 5]] prediction str:  if you waot you\n",
      "29 loss:  0.9087725281715393 prediction:  [[6 7 2 0 8 5 2 3 4 8 1 2 0 8 5]] true Y:  [[6, 7, 2, 0, 8, 5, 2, 3, 4, 9, 1, 2, 0, 8, 5]] prediction str:  if you waot you\n",
      "30 loss:  0.9001685380935669 prediction:  [[6 7 2 0 8 5 2 3 4 9 1 2 0 8 5]] true Y:  [[6, 7, 2, 0, 8, 5, 2, 3, 4, 9, 1, 2, 0, 8, 5]] prediction str:  if you want you\n",
      "31 loss:  0.8918548822402954 prediction:  [[6 7 2 0 8 5 2 3 4 9 1 2 0 8 5]] true Y:  [[6, 7, 2, 0, 8, 5, 2, 3, 4, 9, 1, 2, 0, 8, 5]] prediction str:  if you want you\n",
      "32 loss:  0.8858891725540161 prediction:  [[6 7 2 0 8 5 2 3 4 9 1 2 0 8 5]] true Y:  [[6, 7, 2, 0, 8, 5, 2, 3, 4, 9, 1, 2, 0, 8, 5]] prediction str:  if you want you\n",
      "33 loss:  0.8811616897583008 prediction:  [[6 7 2 0 8 5 2 3 4 9 1 2 0 8 5]] true Y:  [[6, 7, 2, 0, 8, 5, 2, 3, 4, 9, 1, 2, 0, 8, 5]] prediction str:  if you want you\n",
      "34 loss:  0.8768951296806335 prediction:  [[6 7 2 0 8 5 2 3 4 9 1 2 0 8 5]] true Y:  [[6, 7, 2, 0, 8, 5, 2, 3, 4, 9, 1, 2, 0, 8, 5]] prediction str:  if you want you\n",
      "35 loss:  0.8729950189590454 prediction:  [[6 7 2 0 8 5 2 3 4 9 1 2 0 8 5]] true Y:  [[6, 7, 2, 0, 8, 5, 2, 3, 4, 9, 1, 2, 0, 8, 5]] prediction str:  if you want you\n",
      "36 loss:  0.8695176839828491 prediction:  [[6 7 2 0 8 5 2 3 4 9 1 2 0 8 5]] true Y:  [[6, 7, 2, 0, 8, 5, 2, 3, 4, 9, 1, 2, 0, 8, 5]] prediction str:  if you want you\n",
      "37 loss:  0.8664319515228271 prediction:  [[6 7 2 0 8 5 2 3 4 9 1 2 0 8 5]] true Y:  [[6, 7, 2, 0, 8, 5, 2, 3, 4, 9, 1, 2, 0, 8, 5]] prediction str:  if you want you\n",
      "38 loss:  0.8635848760604858 prediction:  [[6 7 2 0 8 5 2 3 4 9 1 2 0 8 5]] true Y:  [[6, 7, 2, 0, 8, 5, 2, 3, 4, 9, 1, 2, 0, 8, 5]] prediction str:  if you want you\n",
      "39 loss:  0.860722005367279 prediction:  [[6 7 2 0 8 5 2 3 4 9 1 2 0 8 5]] true Y:  [[6, 7, 2, 0, 8, 5, 2, 3, 4, 9, 1, 2, 0, 8, 5]] prediction str:  if you want you\n",
      "40 loss:  0.8574985265731812 prediction:  [[6 7 2 0 8 5 2 3 4 9 1 2 0 8 5]] true Y:  [[6, 7, 2, 0, 8, 5, 2, 3, 4, 9, 1, 2, 0, 8, 5]] prediction str:  if you want you\n",
      "41 loss:  0.8534855246543884 prediction:  [[6 7 2 0 8 5 2 3 4 9 1 2 0 8 5]] true Y:  [[6, 7, 2, 0, 8, 5, 2, 3, 4, 9, 1, 2, 0, 8, 5]] prediction str:  if you want you\n",
      "42 loss:  0.8484065532684326 prediction:  [[6 7 2 0 8 5 2 3 4 9 1 2 0 8 5]] true Y:  [[6, 7, 2, 0, 8, 5, 2, 3, 4, 9, 1, 2, 0, 8, 5]] prediction str:  if you want you\n",
      "43 loss:  0.8434102535247803 prediction:  [[6 7 2 0 8 5 2 3 4 9 1 2 0 8 5]] true Y:  [[6, 7, 2, 0, 8, 5, 2, 3, 4, 9, 1, 2, 0, 8, 5]] prediction str:  if you want you\n",
      "44 loss:  0.8421770334243774 prediction:  [[6 7 2 0 8 5 2 3 4 9 1 2 0 8 5]] true Y:  [[6, 7, 2, 0, 8, 5, 2, 3, 4, 9, 1, 2, 0, 8, 5]] prediction str:  if you want you\n",
      "45 loss:  0.8427600264549255 prediction:  [[6 7 2 0 8 5 2 3 4 9 1 2 0 8 5]] true Y:  [[6, 7, 2, 0, 8, 5, 2, 3, 4, 9, 1, 2, 0, 8, 5]] prediction str:  if you want you\n",
      "46 loss:  0.8396450281143188 prediction:  [[6 7 2 0 8 5 2 3 4 9 1 2 0 8 5]] true Y:  [[6, 7, 2, 0, 8, 5, 2, 3, 4, 9, 1, 2, 0, 8, 5]] prediction str:  if you want you\n",
      "47 loss:  0.8355473875999451 prediction:  [[6 7 2 0 8 5 2 3 4 9 1 2 0 8 5]] true Y:  [[6, 7, 2, 0, 8, 5, 2, 3, 4, 9, 1, 2, 0, 8, 5]] prediction str:  if you want you\n",
      "48 loss:  0.832886815071106 prediction:  [[6 7 2 0 8 5 2 3 4 9 1 2 0 8 5]] true Y:  [[6, 7, 2, 0, 8, 5, 2, 3, 4, 9, 1, 2, 0, 8, 5]] prediction str:  if you want you\n",
      "49 loss:  0.8315078020095825 prediction:  [[6 7 2 0 8 5 2 3 4 9 1 2 0 8 5]] true Y:  [[6, 7, 2, 0, 8, 5, 2, 3, 4, 9, 1, 2, 0, 8, 5]] prediction str:  if you want you\n"
     ]
    }
   ],
   "source": [
    "# start training\n",
    "for i in range(50):\n",
    "    optimizer.zero_grad()\n",
    "    outputs, _status = rnn(X)\n",
    "    loss = criterion(outputs.view(-1, dic_size), Y.view(-1))\n",
    "    loss.backward()\n",
    "    optimizer.step()\n",
    "\n",
    "    result = outputs.data.numpy().argmax(axis=2)\n",
    "    result_str = ''.join([char_set[c] for c in np.squeeze(result)])\n",
    "    print(i, \"loss: \", loss.item(), \"prediction: \", result, \"true Y: \", y_data, \"prediction str: \", result_str)"
   ]
  },
  {
   "cell_type": "markdown",
   "id": "150d4f95-05e7-4035-9ee9-b090c34a4704",
   "metadata": {},
   "source": [
    "## What's Next?\n",
    "- More complicated examples\n",
    "    - Longer character sequence\n",
    "    - Seq2seq (used in machine translation)"
   ]
  },
  {
   "cell_type": "code",
   "execution_count": null,
   "id": "06135b39-f8cc-474e-bb65-e9eba35b60d5",
   "metadata": {},
   "outputs": [],
   "source": []
  }
 ],
 "metadata": {
  "kernelspec": {
   "display_name": "Python 3 (ipykernel)",
   "language": "python",
   "name": "python3"
  },
  "language_info": {
   "codemirror_mode": {
    "name": "ipython",
    "version": 3
   },
   "file_extension": ".py",
   "mimetype": "text/x-python",
   "name": "python",
   "nbconvert_exporter": "python",
   "pygments_lexer": "ipython3",
   "version": "3.9.13"
  }
 },
 "nbformat": 4,
 "nbformat_minor": 5
}
