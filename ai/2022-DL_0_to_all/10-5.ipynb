{
 "cells": [
  {
   "cell_type": "markdown",
   "id": "52093e44-7ef7-416d-ba5c-2ce3fbebba4e",
   "metadata": {},
   "source": [
    "# Lab-10-5 Advanced CNN(VGG)\n",
    "\n",
    "## 지난시간까지\n",
    "- ImageFolder\n",
    "\n",
    "## 오늘은\n",
    "- VGG Network 만들기\n",
    "\n",
    "## 이론적인 설명은 어디서?\n",
    "- [모두를 위한 딥러닝 시즌 1](https://www.youtube.com/watchv=KbNbWTnlYXs&list=PLlMkM4tgfjnLSOjrEJN31gZATbcj_MpUm&index=38)\n",
    "- [Pytorch Lecture 11: Advanced CNN](https://www.youtube.com/watch?v=hqYfqNAQIjE)\n"
   ]
  },
  {
   "cell_type": "code",
   "execution_count": 1,
   "id": "8b03a3d1-49fc-4a36-9792-5078f00a42f2",
   "metadata": {},
   "outputs": [],
   "source": [
    "import torch.nn as nn\n",
    "import torch.utils.model_zoo as model_zoo"
   ]
  },
  {
   "cell_type": "code",
   "execution_count": 2,
   "id": "836110bd-f2f2-4b3a-a1b8-2e73db160f22",
   "metadata": {},
   "outputs": [],
   "source": [
    "__all__ = [\n",
    "    \"VGG\", \"vgg11\", \"vgg11_bn\", \"vgg13\", \"vgg13_bn\", \"vgg16\", \"vgg16_bn\",\n",
    "    \"vgg19_bn\", \"vgg19\",\n",
    "]\n",
    "\n",
    "model_urls = {\n",
    "    \"vgg11\" : \"https://download.pytorch.org/models/vgg11_bbd30ac9.pth\",\n",
    "    \"vgg13\" : \"https://download.pytorch.org/models/vgg13_c768596a.pth\",\n",
    "    \"vgg16\" : \"https://download.pytorch.org/models/vgg16_397923af.pth\",\n",
    "    \"vgg19\" : \"https://download.pytorch.org/models/vgg19_dcbb9e9d.pth\",\n",
    "    \"vgg11_bn\" : \"https://download.pytorch.org/models/vgg11_bn-6002323d.pth\",\n",
    "    \"vgg13_bn\" : \"https://download.pytorch.org/models/vgg13_bn-abd245e5.pth\",\n",
    "    \"vgg16_bn\" : \"https://download.pytorch.org/models/vgg16_bn-6c64b313.pth\",\n",
    "    \"vgg19_bn\" : \"https://download.pytorch.org/models/vgg19_bn-c79401a0.pth\"\n",
    "}"
   ]
  },
  {
   "cell_type": "code",
   "execution_count": 19,
   "id": "32628c1f-443c-4389-890b-cf06e1945511",
   "metadata": {},
   "outputs": [],
   "source": [
    "class VGG(nn.Module):\n",
    "    def __init__(self, features, num_classes=1000, init_weights=True):\n",
    "        super(VGG, self).__init__()\n",
    "        \n",
    "        self.features = features #convolution\n",
    "        \n",
    "        self.avgpool = nn.AdaptiveAvgPool2d((7, 7))\n",
    "        \n",
    "        self.classifier = nn.Sequential(\n",
    "            nn.Linear(512 * 7 * 7, 4096),   # FC Layer 1개째\n",
    "            nn.ReLU(True),\n",
    "            nn.Dropout(),\n",
    "            nn.Linear(4096, 4096),          # FC Layer 2개째\n",
    "            nn.ReLU(True),\n",
    "            nn.Dropout(),\n",
    "            nn.Linear(4096, num_classes),   # FC Layer 3개째\n",
    "        )#FC layer\n",
    "        \n",
    "        if init_weights:     # weight initialize하는 부분\n",
    "            self._initialize_weights()\n",
    "        \n",
    "    def forward(self, x):\n",
    "        x = self.features(x) #Convolution\n",
    "        x = self.avgpool(x) # avgpool\n",
    "        x = x.view(x.size(0), -1) # 일렬로 펼치기\n",
    "        x = self.classifier(x) #FC layer\n",
    "        return x\n",
    "\n",
    "    def _initialize_weights(self):\n",
    "        for m in self.modules():   # feature의 레이어 값을 하나씩 리턴. m에게\n",
    "            if isinstance(m, nn.Conv2d):\n",
    "                # m이 처음에는 컨볼루션일거고, 그때는 이걸로 normalize해서 초기화해라\n",
    "                # kaiming he라는 박사님이 제안한, activation func에 따른 초기화 방법\n",
    "                nn.init.kaiming_normal_(m.weight, mode=\"fan_out\", nonlinearity=\"relu\")\n",
    "                if m.bias is not None:\n",
    "                    nn.init.constant_(m.bias, 0)\n",
    "            elif isinstance(m, nn.BatchNorm2d):\n",
    "                nn.init.constant_(m.weight, 1)\n",
    "                nn.init.constant_(m.bias, 0)\n",
    "            elif isinstance(m, nn.Linear):\n",
    "                nn.init.normal_(m.weight, 0, 0.01)\n",
    "                nn.init.constant_(m.bias, 0)"
   ]
  },
  {
   "cell_type": "code",
   "execution_count": 5,
   "id": "5b4a3a6c-2814-4427-ba63-78f9c1a74ac2",
   "metadata": {},
   "outputs": [
    {
     "data": {
      "text/plain": [
       "'\\n\"A\" : [64, \"M\", 128, \"M\", 256, 256, \"M\", 512, 512, \"M\", 512, 512, \"M\"],\\n\\n->\\n\\nconv2d = nn.Conv2d(3, 64, kernel_size=3, padding=1), #1\\nnn.ReLU(inplace=True)\\n\\nnn.MaxPool2d(kernel_size=2, stride=2)\\n\\nconv2d = nn.Conv2d(64, 128, kernel_size=3, padding=1) #2\\nnn.ReLU(inplace=True)\\n\\nnn.MaxPool2d(kernel_size=2, stride=2)\\n\\nconv2d = nn.Conv2d(128, 256, kernel_size=3, padding=1) #3\\nnn.ReLU(inplace=True)\\n\\nconv2d = nn.Conv2d(256, 256, kernel_size=3, padding=1) #4\\nnn.ReLU(inplace=True)\\n\\nnn.MaxPool2d(kernel_size=2, stride=2)\\n\\nconv2d = nn.Conv2d(256, 512, kernel_size=3, padding=1) #5\\nnn.ReLU(inplace=True)\\n\\nconv2d = nn.Conv2d(512, 512, kernel_size=3, padding=1) #6\\nnn.ReLU(inplace=True)\\n\\nnn.MaxPool2d(kernel_size=2, stride=2)\\n\\nconv2d = nn.Conv2d(512, 512, kernel_size=3, padding=1) #7\\nnn.ReLU(inplace=True)\\n\\nconv2d = nn.Conv2d(512, 512, kernel_size=3, padding=1) #8\\nnn.ReLU(inplace=True)\\n\\nnn.MaxPool2d(kernel_size=2, stride=2)\\n\\n\\n: convolution layer 8개\\n\\n'"
      ]
     },
     "execution_count": 5,
     "metadata": {},
     "output_type": "execute_result"
    }
   ],
   "source": [
    "def make_layers(cfg, batch_norm=False):\n",
    "    layers = []\n",
    "    in_channels = 3\n",
    "    for v in cfg:\n",
    "        if v == \"M\":\n",
    "            layers += [nn.MaxPool2d(kernel_size=2, stride=2)]\n",
    "        else:\n",
    "            conv2d = nn.Conv2d(in_channels, v, kernel_size=3, padding=1)\n",
    "            if batch_norm:\n",
    "                layers += [conv2d, nn.BatchNorm2d(v), nn.ReLU(inplace=True)]\n",
    "            else:\n",
    "                layers += [conv2d, nn.ReLU(inplace=True)]\n",
    "            in_channels = v\n",
    "    return nn.Sequential(*layers)\n",
    "    \n",
    "    \n",
    "'''\n",
    "\"A\" : [64, \"M\", 128, \"M\", 256, 256, \"M\", 512, 512, \"M\", 512, 512, \"M\"],\n",
    "# M은 maxpooling\n",
    "\n",
    "->\n",
    "\n",
    "conv2d = nn.Conv2d(3, 64, kernel_size=3, padding=1), #1\n",
    "nn.ReLU(inplace=True)\n",
    "\n",
    "nn.MaxPool2d(kernel_size=2, stride=2)\n",
    "\n",
    "conv2d = nn.Conv2d(64, 128, kernel_size=3, padding=1) #2\n",
    "nn.ReLU(inplace=True)\n",
    "\n",
    "nn.MaxPool2d(kernel_size=2, stride=2)\n",
    "\n",
    "conv2d = nn.Conv2d(128, 256, kernel_size=3, padding=1) #3\n",
    "nn.ReLU(inplace=True)\n",
    "\n",
    "conv2d = nn.Conv2d(256, 256, kernel_size=3, padding=1) #4\n",
    "nn.ReLU(inplace=True)\n",
    "\n",
    "nn.MaxPool2d(kernel_size=2, stride=2)\n",
    "\n",
    "conv2d = nn.Conv2d(256, 512, kernel_size=3, padding=1) #5\n",
    "nn.ReLU(inplace=True)\n",
    "\n",
    "conv2d = nn.Conv2d(512, 512, kernel_size=3, padding=1) #6\n",
    "nn.ReLU(inplace=True)\n",
    "\n",
    "nn.MaxPool2d(kernel_size=2, stride=2)\n",
    "\n",
    "conv2d = nn.Conv2d(512, 512, kernel_size=3, padding=1) #7\n",
    "nn.ReLU(inplace=True)\n",
    "\n",
    "conv2d = nn.Conv2d(512, 512, kernel_size=3, padding=1) #8\n",
    "nn.ReLU(inplace=True)\n",
    "\n",
    "nn.MaxPool2d(kernel_size=2, stride=2)\n",
    "\n",
    "\n",
    ": convolution layer 8개\n",
    "\n",
    "'''"
   ]
  },
  {
   "cell_type": "code",
   "execution_count": 13,
   "id": "df1f83a9-94a5-4497-b715-1350c4b0ead4",
   "metadata": {},
   "outputs": [],
   "source": [
    "cfg = {\n",
    "    \"A\" : [64, \"M\", 128, \"M\", 256, 256, \"M\", 512, 512, \"M\", 512, 512, \"M\"],   # conv 레이어 8개, fc layer 3개 -> vgg11 \n",
    "    \"B\" : [64, 64, \"M\", 128, 128, \"M\", 256, 256, \"M\", 512, 512, \"M\", 512, 512, \"M\"], # 10 + 3 = vgg 13\n",
    "    \"D\" : [64, 64, \"M\", 128, 128, \"M\", 256, 256, 256, \"M\", 512, 512, 512, \"M\", 512, 512, 512, \"M\"],  # 13 + 3 = vgg16\n",
    "    \"E\" : [64, 64, \"M\", 128, 128, \"M\", 256, 256, 256, 256, \"M\", 512, 512, 512, 512, \"M\", 512, 512, 512, 512, \"M\"],  # 16 + 3 = vgg19\n",
    "    \"custom\" : [64, 64, 64, \"M\", 128, 128, 128, \"M\", 256, 256, 256, \"M\"] # 이렇게 웒는 레이어도 넣을 수 있다.\n",
    "}"
   ]
  },
  {
   "cell_type": "code",
   "execution_count": 12,
   "id": "7b8378b6-5bfe-49eb-91ee-c93a41f67455",
   "metadata": {},
   "outputs": [
    {
     "data": {
      "text/plain": [
       "Sequential(\n",
       "  (0): Conv2d(3, 64, kernel_size=(3, 3), stride=(1, 1), padding=(1, 1))\n",
       "  (1): ReLU(inplace=True)\n",
       "  (2): MaxPool2d(kernel_size=2, stride=2, padding=0, dilation=1, ceil_mode=False)\n",
       "  (3): Conv2d(64, 128, kernel_size=(3, 3), stride=(1, 1), padding=(1, 1))\n",
       "  (4): ReLU(inplace=True)\n",
       "  (5): MaxPool2d(kernel_size=2, stride=2, padding=0, dilation=1, ceil_mode=False)\n",
       "  (6): Conv2d(128, 256, kernel_size=(3, 3), stride=(1, 1), padding=(1, 1))\n",
       "  (7): ReLU(inplace=True)\n",
       "  (8): Conv2d(256, 256, kernel_size=(3, 3), stride=(1, 1), padding=(1, 1))\n",
       "  (9): ReLU(inplace=True)\n",
       "  (10): MaxPool2d(kernel_size=2, stride=2, padding=0, dilation=1, ceil_mode=False)\n",
       "  (11): Conv2d(256, 512, kernel_size=(3, 3), stride=(1, 1), padding=(1, 1))\n",
       "  (12): ReLU(inplace=True)\n",
       "  (13): Conv2d(512, 512, kernel_size=(3, 3), stride=(1, 1), padding=(1, 1))\n",
       "  (14): ReLU(inplace=True)\n",
       "  (15): MaxPool2d(kernel_size=2, stride=2, padding=0, dilation=1, ceil_mode=False)\n",
       "  (16): Conv2d(512, 512, kernel_size=(3, 3), stride=(1, 1), padding=(1, 1))\n",
       "  (17): ReLU(inplace=True)\n",
       "  (18): Conv2d(512, 512, kernel_size=(3, 3), stride=(1, 1), padding=(1, 1))\n",
       "  (19): ReLU(inplace=True)\n",
       "  (20): MaxPool2d(kernel_size=2, stride=2, padding=0, dilation=1, ceil_mode=False)\n",
       ")"
      ]
     },
     "execution_count": 12,
     "metadata": {},
     "output_type": "execute_result"
    }
   ],
   "source": [
    "conv = make_layers(cfg['A'])\n",
    "conv"
   ]
  },
  {
   "cell_type": "code",
   "execution_count": 15,
   "id": "f7968b81-f24c-48d4-b5e0-b390a146ed86",
   "metadata": {},
   "outputs": [
    {
     "data": {
      "text/plain": [
       "Sequential(\n",
       "  (0): Conv2d(3, 64, kernel_size=(3, 3), stride=(1, 1), padding=(1, 1))\n",
       "  (1): BatchNorm2d(64, eps=1e-05, momentum=0.1, affine=True, track_running_stats=True)\n",
       "  (2): ReLU(inplace=True)\n",
       "  (3): Conv2d(64, 64, kernel_size=(3, 3), stride=(1, 1), padding=(1, 1))\n",
       "  (4): BatchNorm2d(64, eps=1e-05, momentum=0.1, affine=True, track_running_stats=True)\n",
       "  (5): ReLU(inplace=True)\n",
       "  (6): Conv2d(64, 64, kernel_size=(3, 3), stride=(1, 1), padding=(1, 1))\n",
       "  (7): BatchNorm2d(64, eps=1e-05, momentum=0.1, affine=True, track_running_stats=True)\n",
       "  (8): ReLU(inplace=True)\n",
       "  (9): MaxPool2d(kernel_size=2, stride=2, padding=0, dilation=1, ceil_mode=False)\n",
       "  (10): Conv2d(64, 128, kernel_size=(3, 3), stride=(1, 1), padding=(1, 1))\n",
       "  (11): BatchNorm2d(128, eps=1e-05, momentum=0.1, affine=True, track_running_stats=True)\n",
       "  (12): ReLU(inplace=True)\n",
       "  (13): Conv2d(128, 128, kernel_size=(3, 3), stride=(1, 1), padding=(1, 1))\n",
       "  (14): BatchNorm2d(128, eps=1e-05, momentum=0.1, affine=True, track_running_stats=True)\n",
       "  (15): ReLU(inplace=True)\n",
       "  (16): Conv2d(128, 128, kernel_size=(3, 3), stride=(1, 1), padding=(1, 1))\n",
       "  (17): BatchNorm2d(128, eps=1e-05, momentum=0.1, affine=True, track_running_stats=True)\n",
       "  (18): ReLU(inplace=True)\n",
       "  (19): MaxPool2d(kernel_size=2, stride=2, padding=0, dilation=1, ceil_mode=False)\n",
       "  (20): Conv2d(128, 256, kernel_size=(3, 3), stride=(1, 1), padding=(1, 1))\n",
       "  (21): BatchNorm2d(256, eps=1e-05, momentum=0.1, affine=True, track_running_stats=True)\n",
       "  (22): ReLU(inplace=True)\n",
       "  (23): Conv2d(256, 256, kernel_size=(3, 3), stride=(1, 1), padding=(1, 1))\n",
       "  (24): BatchNorm2d(256, eps=1e-05, momentum=0.1, affine=True, track_running_stats=True)\n",
       "  (25): ReLU(inplace=True)\n",
       "  (26): Conv2d(256, 256, kernel_size=(3, 3), stride=(1, 1), padding=(1, 1))\n",
       "  (27): BatchNorm2d(256, eps=1e-05, momentum=0.1, affine=True, track_running_stats=True)\n",
       "  (28): ReLU(inplace=True)\n",
       "  (29): MaxPool2d(kernel_size=2, stride=2, padding=0, dilation=1, ceil_mode=False)\n",
       ")"
      ]
     },
     "execution_count": 15,
     "metadata": {},
     "output_type": "execute_result"
    }
   ],
   "source": [
    "conv = make_layers(cfg[\"custom\"], batch_norm=True)\n",
    "# 일케 하면 conv 다음에 batch\n",
    "conv"
   ]
  },
  {
   "cell_type": "markdown",
   "id": "9c6fbecb-bccf-4e3e-adbe-71115fc2f2a1",
   "metadata": {},
   "source": [
    "그냥 vgg 레이어 쌓은, sequential 출력하는 것만 본것.\n",
    "완성본은 아래"
   ]
  },
  {
   "cell_type": "code",
   "execution_count": null,
   "id": "4c0559e4-796c-4c63-ab2a-3daff61049fc",
   "metadata": {},
   "outputs": [],
   "source": [
    "class VGG(nn.Module):\n",
    "    def __init__(self, features, num_classes=1000, init_weights=True):\n",
    "        super(VGG, self).__init__()\n",
    "        \n",
    "        self.features = features #convolution\n",
    "        \n",
    "        self.avgpool = nn.AdaptivePool2d((7, 7))\n",
    "        \n",
    "        self.classifier = nn.Sequential(\n",
    "            nn.Linear(512 * 7 * 7, 4096),   # FC Layer 1개째\n",
    "            nn.ReLU(True),\n",
    "            nn.Dropout(),\n",
    "            nn.Linear(4096, 4096),          # FC Layer 2개째\n",
    "            nn.ReLU(True),\n",
    "            nn.Dropout(),\n",
    "            nn.Linear(4096, num_classes),   # FC Layer 3개째\n",
    "        )#FC layer\n",
    "        \n",
    "        if init_weights:     # weight initialize하는 부분\n",
    "            self._initialize_weights()\n",
    "        \n",
    "    def forward(self, x):\n",
    "        x = self.features(x) #Convolution\n",
    "        x = self.avgpool(x) # avgpool\n",
    "        x = x.view(x.size(0), -1) # 일렬로 펼치기\n",
    "        x = self.classifier(x) #FC layer\n",
    "        return x\n",
    "\n",
    "    def _initialize_weights(self):\n",
    "        for m in self.modules():   # feature의 레이어 값을 하나씩 리턴. m에게\n",
    "            if isinstance(m, nn.Conv2d):\n",
    "                # m이 처음에는 컨볼루션일거고, 그때는 이걸로 normalize해서 초기화해라\n",
    "                # kaiming he라는 박사님이 제안한, activation func에 따른 초기화 방법\n",
    "                nn.init.kaiming_normal_(m.weight, mode=\"fan_out\", nonlinearity=\"relu\")\n",
    "                if m.bias is not None:\n",
    "                    nn.init.constant_(m.bias, 0)\n",
    "            elif isinstance(m, nn.BatchNorm2d):\n",
    "                nn.init.constant_(m.weight, 1)\n",
    "                nn.init.constant_(m.bias, 0)\n",
    "            elif isinstance(m, nn.Linear):\n",
    "                nn.init.normal_(m.weight, 0, 0.01)\n",
    "                nn.init.constant_(m.bias, 0)"
   ]
  },
  {
   "cell_type": "code",
   "execution_count": 16,
   "id": "5b75615c-6a1a-45d7-9867-f10eb837e1cc",
   "metadata": {},
   "outputs": [],
   "source": [
    "conv = make_layers(cfg[\"custom\"], batch_norm=True)"
   ]
  },
  {
   "cell_type": "code",
   "execution_count": 21,
   "id": "f4acea98-3fdf-4ba0-a0e5-8cf044e4c664",
   "metadata": {},
   "outputs": [
    {
     "data": {
      "text/plain": [
       "VGG(\n",
       "  (features): Sequential(\n",
       "    (0): Conv2d(3, 64, kernel_size=(3, 3), stride=(1, 1), padding=(1, 1))\n",
       "    (1): ReLU(inplace=True)\n",
       "    (2): Conv2d(64, 64, kernel_size=(3, 3), stride=(1, 1), padding=(1, 1))\n",
       "    (3): ReLU(inplace=True)\n",
       "    (4): Conv2d(64, 64, kernel_size=(3, 3), stride=(1, 1), padding=(1, 1))\n",
       "    (5): ReLU(inplace=True)\n",
       "    (6): MaxPool2d(kernel_size=2, stride=2, padding=0, dilation=1, ceil_mode=False)\n",
       "    (7): Conv2d(64, 128, kernel_size=(3, 3), stride=(1, 1), padding=(1, 1))\n",
       "    (8): ReLU(inplace=True)\n",
       "    (9): Conv2d(128, 128, kernel_size=(3, 3), stride=(1, 1), padding=(1, 1))\n",
       "    (10): ReLU(inplace=True)\n",
       "    (11): Conv2d(128, 128, kernel_size=(3, 3), stride=(1, 1), padding=(1, 1))\n",
       "    (12): ReLU(inplace=True)\n",
       "    (13): MaxPool2d(kernel_size=2, stride=2, padding=0, dilation=1, ceil_mode=False)\n",
       "    (14): Conv2d(128, 256, kernel_size=(3, 3), stride=(1, 1), padding=(1, 1))\n",
       "    (15): ReLU(inplace=True)\n",
       "    (16): Conv2d(256, 256, kernel_size=(3, 3), stride=(1, 1), padding=(1, 1))\n",
       "    (17): ReLU(inplace=True)\n",
       "    (18): Conv2d(256, 256, kernel_size=(3, 3), stride=(1, 1), padding=(1, 1))\n",
       "    (19): ReLU(inplace=True)\n",
       "    (20): MaxPool2d(kernel_size=2, stride=2, padding=0, dilation=1, ceil_mode=False)\n",
       "  )\n",
       "  (avgpool): AdaptiveAvgPool2d(output_size=(7, 7))\n",
       "  (classifier): Sequential(\n",
       "    (0): Linear(in_features=25088, out_features=4096, bias=True)\n",
       "    (1): ReLU(inplace=True)\n",
       "    (2): Dropout(p=0.5, inplace=False)\n",
       "    (3): Linear(in_features=4096, out_features=4096, bias=True)\n",
       "    (4): ReLU(inplace=True)\n",
       "    (5): Dropout(p=0.5, inplace=False)\n",
       "    (6): Linear(in_features=4096, out_features=10, bias=True)\n",
       "  )\n",
       ")"
      ]
     },
     "execution_count": 21,
     "metadata": {},
     "output_type": "execute_result"
    }
   ],
   "source": [
    "# CIFAR 10 (class 10개)\n",
    "CNN = VGG(make_layers(cfg[\"custom\"]), num_classes=10, init_weights=True)\n",
    "CNN"
   ]
  },
  {
   "cell_type": "code",
   "execution_count": null,
   "id": "e5a1c7e9-6420-4c3b-b1ea-0ad6f91d5ef3",
   "metadata": {},
   "outputs": [],
   "source": []
  }
 ],
 "metadata": {
  "kernelspec": {
   "display_name": "Python 3 (ipykernel)",
   "language": "python",
   "name": "python3"
  },
  "language_info": {
   "codemirror_mode": {
    "name": "ipython",
    "version": 3
   },
   "file_extension": ".py",
   "mimetype": "text/x-python",
   "name": "python",
   "nbconvert_exporter": "python",
   "pygments_lexer": "ipython3",
   "version": "3.9.13"
  }
 },
 "nbformat": 4,
 "nbformat_minor": 5
}
