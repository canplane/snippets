{
 "cells": [
  {
   "cell_type": "markdown",
   "id": "57691807-dd60-40c9-9a84-32bbc70c3dcf",
   "metadata": {},
   "source": [
    "# Lab-11-1 RNN basics\n",
    "\n",
    "- RNN in PyTorch\n",
    "- Simple Example\n",
    "    - Input\n",
    "    - Hidden State\n",
    "    - Sequence Length\n",
    "    - Batch Size\n",
    "    \n",
    "## RNN in PyTorch\n",
    "    \n",
    "```\n",
    "rnn = torch.nn.RNN(input_size, hidden_size)\n",
    "outputs, _status = rnn(input_data)\n",
    "```\n",
    "\n",
    "![snapshot](11-1-0.png)"
   ]
  },
  {
   "cell_type": "markdown",
   "id": "d3354d67-c0ac-4a02-8a19-bb540096c156",
   "metadata": {
    "tags": []
   },
   "source": [
    "## Example : Input\n",
    "\n",
    "**hello**\n",
    "\n",
    "```\n",
    "# 1-hot encoding\n",
    "h = [1, 0, 0, 0]\n",
    "e = [0, 1, 0, 0]\n",
    "l = [0, 0, 1, 0]\n",
    "o = [0, 0, 0, 1]\n",
    "\n",
    "input_size = 4\n",
    "input_data: shape=(-,-,4)\n",
    "```\n",
    "\n",
    "## Example : Hidden State\n",
    "\n",
    "**desirable output size** $\\rightarrow$ `hidden_size = 2` $\\rightarrow$ `input_data: shape=(-,-,4) -> outputs: shape=(-,-,2)`\n",
    "\n",
    "\n",
    "## Example : Sequence Length\n",
    "(= 5)\n",
    "\n",
    "```\n",
    "h, e, l, l, o\n",
    "\n",
    "->\n",
    "input_data\n",
    "shape=(-,5,4)\n",
    "\n",
    "->\n",
    "outputs\n",
    "shape=(-,5,2)\n",
    "```\n",
    "\n",
    "PyTorch의 놀라운 점은, 이 sequence length를 자동으로 계산해 준다는 것.\n",
    "\n",
    "## Example : Batch Size\n",
    "\n",
    "```\n",
    "h, e, l, l, o\n",
    "e, o, l, l, l\n",
    "l, l, e, e, l\n",
    "\n",
    "-> shape=(3,5,4)\n",
    "```\n",
    "\n",
    "이 역시 자동으로 모델에서 배치 사이즈 파악해줌. 직접 입력 안해줘도 됨.\n",
    "\n",
    "## Example : Run"
   ]
  },
  {
   "cell_type": "code",
   "execution_count": null,
   "id": "887efc99-2874-4d14-937e-2d57226a268b",
   "metadata": {},
   "outputs": [],
   "source": [
    "import torch\n",
    "import numpy as np\n",
    "\n",
    "input_size = 4\n",
    "hidden_size = 2\n",
    "\n",
    "# 1-hot encoding\n",
    "h = [1, 0, 0, 0]\n",
    "e = [0, 1, 0, 0]\n",
    "l = [0, 0, 1, 0]\n",
    "o = [0, 0, 0, 1]\n",
    "input_data_np = np.array([[h, e, l, l, o],\n",
    "                          [e, o, l, l, l],\n",
    "                          [l, l, e, e, l]], dtype=np.float32)\n",
    "\n",
    "# transform as torch tensor\n",
    "input_data = torch.Tensor(input_data_np)\n",
    "\n",
    "rnn = torch.nn.RNN(input_size, hidden_size)\n",
    "\n",
    "outputs, _status = rnn(input_data)"
   ]
  }
 ],
 "metadata": {
  "kernelspec": {
   "display_name": "Python 3 (ipykernel)",
   "language": "python",
   "name": "python3"
  },
  "language_info": {
   "codemirror_mode": {
    "name": "ipython",
    "version": 3
   },
   "file_extension": ".py",
   "mimetype": "text/x-python",
   "name": "python",
   "nbconvert_exporter": "python",
   "pygments_lexer": "ipython3",
   "version": "3.9.13"
  }
 },
 "nbformat": 4,
 "nbformat_minor": 5
}
