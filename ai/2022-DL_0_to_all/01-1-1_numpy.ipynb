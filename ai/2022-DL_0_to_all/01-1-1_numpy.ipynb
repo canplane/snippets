{
 "cells": [
  {
   "cell_type": "markdown",
   "id": "7f108672-8af4-4982-bcfd-17a2853b245e",
   "metadata": {
    "tags": []
   },
   "source": [
    "# Lab-01-1 Tensor Manipulation 1 (1)\n",
    "# NumPy Review"
   ]
  },
  {
   "cell_type": "code",
   "execution_count": 1,
   "id": "910dd905-0e46-4eb6-8996-725e3e653705",
   "metadata": {},
   "outputs": [],
   "source": [
    "import numpy as np"
   ]
  },
  {
   "cell_type": "markdown",
   "id": "6c5c11d7-1cff-434e-8e2b-ae578bd9ec7e",
   "metadata": {},
   "source": [
    "## 1D Array with NumPy"
   ]
  },
  {
   "cell_type": "code",
   "execution_count": 4,
   "id": "7b9ec089-7ae3-44dc-961e-3524c85334f5",
   "metadata": {},
   "outputs": [
    {
     "name": "stdout",
     "output_type": "stream",
     "text": [
      "[0. 1. 2. 3. 4. 5. 6.]\n"
     ]
    }
   ],
   "source": [
    "t = np.array([ 0., 1., 2., 3., 4., 5., 6., ])\n",
    "print(t)"
   ]
  },
  {
   "cell_type": "code",
   "execution_count": 5,
   "id": "8cb53c4b-6bb4-4d6c-8116-c2ab416e9f27",
   "metadata": {},
   "outputs": [
    {
     "name": "stdout",
     "output_type": "stream",
     "text": [
      "Rank of t:  1\n",
      "Shape of t:  (7,)\n"
     ]
    }
   ],
   "source": [
    "print(\"Rank of t: \", t.ndim)\n",
    "print(\"Shape of t: \", t.shape)"
   ]
  },
  {
   "cell_type": "code",
   "execution_count": 11,
   "id": "50b3b2bb-a770-4d78-b972-245586d3a11b",
   "metadata": {},
   "outputs": [
    {
     "name": "stdout",
     "output_type": "stream",
     "text": [
      "t[0] t[1] t[-1] =  [1. 2. 3.] [4. 5. 6.] [10. 11. 12.]\n",
      "t[2:5] t[4:-1]  =  [[ 7.  8.  9.]\n",
      " [10. 11. 12.]] []\n",
      "t[:2] t[3:]     =  [[1. 2. 3.]\n",
      " [4. 5. 6.]] [[10. 11. 12.]]\n"
     ]
    }
   ],
   "source": [
    "print(\"t[0] t[1] t[-1] = \", t[0], t[1], t[-1])  # Element\n",
    "print(\"t[2:5] t[4:-1]  = \", t[2:5], t[4:-1])    # Slicing\n",
    "print(\"t[:2] t[3:]     = \", t[:2], t[3:])       # Slicing"
   ]
  },
  {
   "cell_type": "markdown",
   "id": "8072ec36-5bfd-4fd9-b1d5-e0507cdfa902",
   "metadata": {},
   "source": [
    "## 2D Array with NumPy"
   ]
  },
  {
   "cell_type": "code",
   "execution_count": 9,
   "id": "5f6ee9fd-86e0-4f1f-b1fc-021b39946c9e",
   "metadata": {},
   "outputs": [
    {
     "name": "stdout",
     "output_type": "stream",
     "text": [
      "[[ 1.  2.  3.]\n",
      " [ 4.  5.  6.]\n",
      " [ 7.  8.  9.]\n",
      " [10. 11. 12.]]\n"
     ]
    }
   ],
   "source": [
    "t = np.array([[1., 2., 3.], [4., 5., 6.,], [7., 8., 9.], [10., 11., 12.]])\n",
    "print(t)"
   ]
  },
  {
   "cell_type": "code",
   "execution_count": 10,
   "id": "fd8a8f52-1350-49f0-a4d9-7be44ba663c7",
   "metadata": {},
   "outputs": [
    {
     "name": "stdout",
     "output_type": "stream",
     "text": [
      "Rank  of t:  2\n",
      "Shape of t:  (4, 3)\n"
     ]
    }
   ],
   "source": [
    "print(\"Rank  of t: \", t.ndim)\n",
    "print(\"Shape of t: \", t.shape)"
   ]
  }
 ],
 "metadata": {
  "kernelspec": {
   "display_name": "Python 3 (ipykernel)",
   "language": "python",
   "name": "python3"
  },
  "language_info": {
   "codemirror_mode": {
    "name": "ipython",
    "version": 3
   },
   "file_extension": ".py",
   "mimetype": "text/x-python",
   "name": "python",
   "nbconvert_exporter": "python",
   "pygments_lexer": "ipython3",
   "version": "3.9.13"
  }
 },
 "nbformat": 4,
 "nbformat_minor": 5
}
