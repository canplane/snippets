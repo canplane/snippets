{
 "cells": [
  {
   "cell_type": "code",
   "execution_count": 1,
   "id": "8628812b-7600-46f8-9aa7-37e1f8ae79b2",
   "metadata": {},
   "outputs": [],
   "source": [
    "import torch"
   ]
  },
  {
   "cell_type": "markdown",
   "id": "63614d43-de2d-41b2-9894-d2ac644f0c11",
   "metadata": {},
   "source": [
    "# Lab-02 Linear Regression"
   ]
  },
  {
   "cell_type": "code",
   "execution_count": 2,
   "id": "c53dd938-cd01-46f9-8b5e-a831cdacc67d",
   "metadata": {},
   "outputs": [],
   "source": [
    "x_train = torch.FloatTensor([[1], [2], [3]])\n",
    "y_train = torch.FloatTensor([[2], [4], [6]])"
   ]
  },
  {
   "cell_type": "markdown",
   "id": "5a5aef52-9365-41fa-aa37-b6350af32bd5",
   "metadata": {},
   "source": [
    "Hypothesis : $y=Wx+b$\n",
    "\n",
    "- Weight와 Bias 0으로 초기화\n",
    "    - 항상 출력 0을 예측\n",
    "- `requires_grad=True`\n",
    "    - 학습할 것이라고 명시"
   ]
  },
  {
   "cell_type": "code",
   "execution_count": 3,
   "id": "3f3ab6c8-7e15-4287-9129-9fcbf2aedfcf",
   "metadata": {},
   "outputs": [],
   "source": [
    "W = torch.zeros(1, requires_grad=True)\n",
    "b = torch.zeros(1, requires_grad=True)\n",
    "hypothesis = x_train * W + b"
   ]
  },
  {
   "cell_type": "markdown",
   "id": "37c6304c-bb02-4910-b721-d28eaa6b4df0",
   "metadata": {},
   "source": [
    "## Compute loss\n",
    "\n",
    "Mean Squared Error (MSE) :\n",
    "$cost(W,b) = \\frac{1}{m} \\sum_{i=1}^{m} (H(x^{(i)}) - y^{(i)})^2$\n",
    "\n",
    "- Mean $\\sum$, Prediction $H$, Target $y$\n"
   ]
  },
  {
   "cell_type": "code",
   "execution_count": 4,
   "id": "8fa226d9-fe0b-4bae-865c-d6ee85aa0b86",
   "metadata": {},
   "outputs": [],
   "source": [
    "cost = torch.mean((hypothesis - y_train) ** 2)"
   ]
  },
  {
   "cell_type": "code",
   "execution_count": 5,
   "id": "d0d48b43-ae2f-4ea3-af6b-7e7c78ebc2c0",
   "metadata": {},
   "outputs": [],
   "source": [
    "from torch import optim\n",
    "\n",
    "optimizer = optim.SGD([W, b], lr=0.01)\n",
    "# [W, b]는 학습할 tensor들, lr=0.01은 learning rate\n",
    "\n",
    "# 항상 붙어다니는 3줄\n",
    "optimizer.zero_grad()  # zero_grad()로 gradient 초기화\n",
    "cost.backward()        # backward()로 gradient 계산\n",
    "optimizer.step()       # step()으로 개선"
   ]
  },
  {
   "cell_type": "markdown",
   "id": "2582d58d-9b6a-4f11-a81f-3aac365385e8",
   "metadata": {},
   "source": [
    "## Full training code"
   ]
  },
  {
   "cell_type": "code",
   "execution_count": 6,
   "id": "71e0cef6-90b8-49c4-8f77-659f14e64707",
   "metadata": {},
   "outputs": [],
   "source": [
    "x_train = torch.FloatTensor([[1], [2], [3]])\n",
    "y_train = torch.FloatTensor([[2], [4], [6]])\n",
    "\n",
    "W = torch.zeros(1, requires_grad=True)\n",
    "b = torch.zeros(1, requires_grad=True)\n",
    "\n",
    "optimizer = optim.SGD([W, b], lr=0.01)\n",
    "\n",
    "nb_epochs = 1000\n",
    "for epoch in range(1, nb_epochs + 1):\n",
    "    hypothesis = x_train * W + b\n",
    "    cost = torch.mean((hypothesis - y_train) ** 2)\n",
    "    \n",
    "    optimizer.zero_grad()\n",
    "    cost.backward()\n",
    "    optimizer.step()"
   ]
  },
  {
   "cell_type": "markdown",
   "id": "ee14ee55-b562-4994-b6ab-fc89e2a70b21",
   "metadata": {},
   "source": [
    "## What's next?\n",
    "- How does gradient descent minimize cost?"
   ]
  },
  {
   "cell_type": "code",
   "execution_count": null,
   "id": "42c3421a-82f0-48b6-a2f5-e94c98ee1237",
   "metadata": {},
   "outputs": [],
   "source": []
  }
 ],
 "metadata": {
  "kernelspec": {
   "display_name": "Python 3 (ipykernel)",
   "language": "python",
   "name": "python3"
  },
  "language_info": {
   "codemirror_mode": {
    "name": "ipython",
    "version": 3
   },
   "file_extension": ".py",
   "mimetype": "text/x-python",
   "name": "python",
   "nbconvert_exporter": "python",
   "pygments_lexer": "ipython3",
   "version": "3.9.13"
  }
 },
 "nbformat": 4,
 "nbformat_minor": 5
}
