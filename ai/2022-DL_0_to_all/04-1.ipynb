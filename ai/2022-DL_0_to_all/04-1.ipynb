{
 "cells": [
  {
   "cell_type": "markdown",
   "id": "b87da28b-bbb7-4eb9-9c4e-ef36303f1e5c",
   "metadata": {},
   "source": [
    "# Lab-04-1 Multivariate Linear Regression\n",
    "- Simple Linear Regression 복습\n",
    "- Multivariate Linear Regression 이론\n",
    "- Naive Data Representation\n",
    "- Matrix Data Representation\n",
    "- Multivariate Linear Regression\n",
    "- `nn.Module` 소개\n",
    "- `F.mse_loss` 소개"
   ]
  },
  {
   "cell_type": "code",
   "execution_count": 1,
   "id": "ab904240-5189-445f-b5cd-583c5ec186b9",
   "metadata": {},
   "outputs": [],
   "source": [
    "import torch\n",
    "from torch import optim"
   ]
  },
  {
   "cell_type": "markdown",
   "id": "2b0eb8f0-5f17-426a-9041-654b8ee0a53e",
   "metadata": {},
   "source": [
    "## Hypothesis Function\n",
    "\n",
    "$H(x) = w_1x_1 + w_2x_2 + w_3x_3 + b$ -> $H(x) = Wx + b$"
   ]
  },
  {
   "cell_type": "code",
   "execution_count": 2,
   "id": "28ba89dc-33eb-4504-a8f1-8e57f22ec2b7",
   "metadata": {},
   "outputs": [
    {
     "name": "stdout",
     "output_type": "stream",
     "text": [
      "Epoch    0/20 hypothesis: tensor([0., 0., 0., 0., 0.]) Cost: 29661.800781\n",
      "Epoch    1/20 hypothesis: tensor([67.2578, 80.8397, 79.6523, 86.7394, 61.6605]) Cost: 9298.520508\n",
      "Epoch    2/20 hypothesis: tensor([104.9128, 126.0990, 124.2466, 135.3015,  96.1821]) Cost: 2915.712891\n",
      "Epoch    3/20 hypothesis: tensor([125.9942, 151.4381, 149.2133, 162.4896, 115.5097]) Cost: 915.040527\n",
      "Epoch    4/20 hypothesis: tensor([137.7968, 165.6247, 163.1911, 177.7112, 126.3307]) Cost: 287.936005\n",
      "Epoch    5/20 hypothesis: tensor([144.4044, 173.5674, 171.0168, 186.2332, 132.3891]) Cost: 91.371010\n",
      "Epoch    6/20 hypothesis: tensor([148.1035, 178.0144, 175.3980, 191.0042, 135.7812]) Cost: 29.758139\n",
      "Epoch    7/20 hypothesis: tensor([150.1744, 180.5042, 177.8508, 193.6753, 137.6805]) Cost: 10.445305\n",
      "Epoch    8/20 hypothesis: tensor([151.3336, 181.8983, 179.2240, 195.1707, 138.7440]) Cost: 4.391228\n",
      "Epoch    9/20 hypothesis: tensor([151.9824, 182.6789, 179.9928, 196.0079, 139.3396]) Cost: 2.493135\n",
      "Epoch   10/20 hypothesis: tensor([152.3454, 183.1161, 180.4231, 196.4765, 139.6732]) Cost: 1.897688\n",
      "Epoch   11/20 hypothesis: tensor([152.5485, 183.3610, 180.6640, 196.7389, 139.8602]) Cost: 1.710541\n",
      "Epoch   12/20 hypothesis: tensor([152.6620, 183.4982, 180.7988, 196.8857, 139.9651]) Cost: 1.651412\n",
      "Epoch   13/20 hypothesis: tensor([152.7253, 183.5752, 180.8742, 196.9678, 140.0240]) Cost: 1.632387\n",
      "Epoch   14/20 hypothesis: tensor([152.7606, 183.6184, 180.9164, 197.0138, 140.0571]) Cost: 1.625923\n",
      "Epoch   15/20 hypothesis: tensor([152.7802, 183.6427, 180.9399, 197.0395, 140.0759]) Cost: 1.623412\n",
      "Epoch   16/20 hypothesis: tensor([152.7909, 183.6565, 180.9530, 197.0538, 140.0865]) Cost: 1.622141\n",
      "Epoch   17/20 hypothesis: tensor([152.7968, 183.6643, 180.9603, 197.0618, 140.0927]) Cost: 1.621253\n",
      "Epoch   18/20 hypothesis: tensor([152.7999, 183.6688, 180.9644, 197.0662, 140.0963]) Cost: 1.620500\n",
      "Epoch   19/20 hypothesis: tensor([152.8014, 183.6715, 180.9666, 197.0686, 140.0985]) Cost: 1.619770\n",
      "Epoch   20/20 hypothesis: tensor([152.8020, 183.6731, 180.9677, 197.0699, 140.1000]) Cost: 1.619033\n"
     ]
    }
   ],
   "source": [
    "# 데이터\n",
    "x_train = torch.FloatTensor([[73, 80, 75],\n",
    "                             [93, 88, 93],\n",
    "                             [89, 91, 90],\n",
    "                             [96, 98, 100],\n",
    "                             [73, 66, 70]])\n",
    "y_train = torch.FloatTensor([[152], [185], [180], [196], [142]])\n",
    "\n",
    "# 모델 초기화\n",
    "W = torch.zeros((3, 1), requires_grad=True)\n",
    "b = torch.zeros(1, requires_grad=True)\n",
    "\n",
    "# optimizer 설정\n",
    "optimizer = optim.SGD([W, b], lr=1e-5)\n",
    "\n",
    "nb_epochs = 20\n",
    "for epoch in range(nb_epochs + 1):\n",
    "    \n",
    "    # H(x) 계산\n",
    "    hypothesis = x_train.matmul(W) + b     # or .mm or @\n",
    "    \n",
    "    # cost 계산\n",
    "    cost = torch.mean((hypothesis - y_train) ** 2)\n",
    "    \n",
    "    # cost로 H(x) 개선\n",
    "    optimizer.zero_grad()\n",
    "    cost.backward()\n",
    "    optimizer.step()\n",
    "    \n",
    "    print(\"Epoch {:4d}/{} hypothesis: {} Cost: {:.6f}\".format(\n",
    "        epoch, nb_epochs, hypothesis.squeeze().detach(), cost.item()  # detach는 grad 소거\n",
    "    ))"
   ]
  },
  {
   "cell_type": "markdown",
   "id": "d3832800-72ee-405e-87a6-fb268c7d6d1b",
   "metadata": {},
   "source": [
    "## `nn.Module`\n",
    "\n",
    "- `nn.Module`을 상속해서 모델 생성\n",
    "- `nn.Linear(3, 1)`\n",
    "    - 입력 차원: 3\n",
    "    - 출력 차원: 1\n",
    "- Hypothesis 계산은 `forward()`에서!\n",
    "- Gradient 계산은 PyTorch가 알아서 해준다 `backward()`"
   ]
  },
  {
   "cell_type": "code",
   "execution_count": 3,
   "id": "79ae1400-92b4-4a69-9ee1-76947db2b85b",
   "metadata": {},
   "outputs": [],
   "source": [
    "import torch.nn as nn\n",
    "\n",
    "class MultivariateLinearRegressionModel(nn.Module):\n",
    "    def __init__(self):\n",
    "        super().__init__()\n",
    "        self.linear = nn.Linear(3, 1)\n",
    "    \n",
    "    def forward(self, x):\n",
    "        return self.linear(x)\n",
    "\n",
    "#hypothesis = model(x_train)"
   ]
  },
  {
   "cell_type": "markdown",
   "id": "75d298db-17cb-4035-9a54-c726bc247193",
   "metadata": {},
   "source": [
    "## `F.mse_loss`\n",
    "\n",
    "- `torch.nn.functional`에서 제공하는 loss function 사용\n",
    "- 쉽게 다른 loss와 교체 가능! (`l1_loss`, `smooth_l1_loss` 등...)"
   ]
  },
  {
   "cell_type": "code",
   "execution_count": 4,
   "id": "f454e1b8-e063-4eeb-86d6-7370a86dcf14",
   "metadata": {},
   "outputs": [],
   "source": [
    "import torch.nn.functional as F"
   ]
  },
  {
   "cell_type": "code",
   "execution_count": 11,
   "id": "9db9ce1f-ad09-436a-9a71-9844407d2076",
   "metadata": {},
   "outputs": [
    {
     "name": "stdout",
     "output_type": "stream",
     "text": [
      "Epoch    0/20 hypothesis: tensor([-43.8276, -49.3782, -50.3708, -54.4904, -37.1691]) Cost: 48239.851562\n",
      "Epoch    1/20 hypothesis: tensor([41.9473, 53.7167, 51.2104, 56.1289, 41.4664]) Cost: 15120.916016\n",
      "Epoch    2/20 hypothesis: tensor([ 89.9695, 111.4358, 108.0820, 118.0606,  85.4915]) Cost: 4739.886230\n",
      "Epoch    3/20 hypothesis: tensor([116.8553, 143.7506, 139.9223, 152.7339, 110.1395]) Cost: 1485.985718\n",
      "Epoch    4/20 hypothesis: tensor([131.9078, 161.8424, 157.7486, 172.1462, 123.9390]) Cost: 466.059662\n",
      "Epoch    5/20 hypothesis: tensor([140.3351, 171.9714, 167.7288, 183.0144, 131.6649]) Cost: 146.367218\n",
      "Epoch    6/20 hypothesis: tensor([145.0532, 177.6422, 173.3164, 189.0991, 135.9903]) Cost: 46.160538\n",
      "Epoch    7/20 hypothesis: tensor([147.6947, 180.8171, 176.4447, 192.5057, 138.4120]) Cost: 14.751104\n",
      "Epoch    8/20 hypothesis: tensor([149.1736, 182.5946, 178.1961, 194.4129, 139.7678]) Cost: 4.905950\n",
      "Epoch    9/20 hypothesis: tensor([150.0016, 183.5897, 179.1767, 195.4807, 140.5268]) Cost: 1.820002\n",
      "Epoch   10/20 hypothesis: tensor([150.4652, 184.1469, 179.7257, 196.0785, 140.9518]) Cost: 0.852692\n",
      "Epoch   11/20 hypothesis: tensor([150.7247, 184.4588, 180.0330, 196.4132, 141.1898]) Cost: 0.549498\n",
      "Epoch   12/20 hypothesis: tensor([150.8701, 184.6334, 180.2051, 196.6006, 141.3230]) Cost: 0.454448\n",
      "Epoch   13/20 hypothesis: tensor([150.9514, 184.7312, 180.3015, 196.7055, 141.3975]) Cost: 0.424653\n",
      "Epoch   14/20 hypothesis: tensor([150.9970, 184.7859, 180.3554, 196.7642, 141.4393]) Cost: 0.415307\n",
      "Epoch   15/20 hypothesis: tensor([151.0225, 184.8166, 180.3856, 196.7970, 141.4627]) Cost: 0.412366\n",
      "Epoch   16/20 hypothesis: tensor([151.0368, 184.8337, 180.4025, 196.8154, 141.4758]) Cost: 0.411437\n",
      "Epoch   17/20 hypothesis: tensor([151.0448, 184.8433, 180.4120, 196.8257, 141.4831]) Cost: 0.411132\n",
      "Epoch   18/20 hypothesis: tensor([151.0493, 184.8487, 180.4173, 196.8315, 141.4872]) Cost: 0.411026\n",
      "Epoch   19/20 hypothesis: tensor([151.0518, 184.8517, 180.4203, 196.8347, 141.4895]) Cost: 0.410992\n",
      "Epoch   20/20 hypothesis: tensor([151.0533, 184.8533, 180.4220, 196.8365, 141.4908]) Cost: 0.410972\n"
     ]
    }
   ],
   "source": [
    "# 데이터\n",
    "x_train = torch.FloatTensor([[73, 80, 75],\n",
    "                             [93, 88, 93],\n",
    "                             [89, 91, 90],\n",
    "                             [96, 98, 100],\n",
    "                             [73, 66, 70]])\n",
    "y_train = torch.FloatTensor([[152], [185], [180], [196], [142]])\n",
    "\n",
    "# 모델 초기화\n",
    "#W = torch.zeros((3, 1), requires_grad=True)\n",
    "#b = torch.zeros(1, requires_grad=True)\n",
    "\n",
    "# optimizer 설정\n",
    "model = MultivariateLinearRegressionModel()\n",
    "optimizer = optim.SGD(model.parameters(), lr=1e-5)\n",
    "\n",
    "nb_epochs = 20\n",
    "for epoch in range(nb_epochs + 1):\n",
    "    \n",
    "    # H(x) 계산\n",
    "    #hypothesis = x_train.matmul(W) + b\n",
    "    hypothesis = model(x_train)\n",
    "    \n",
    "    # cost 계산\n",
    "    #cost = torch.mean((hypothesis - y_train) ** 2)\n",
    "    cost = F.mse_loss(hypothesis, y_train)\n",
    "    \n",
    "    # cost로 H(x) 개선\n",
    "    optimizer.zero_grad()\n",
    "    cost.backward()\n",
    "    optimizer.step()\n",
    "    \n",
    "    print(\"Epoch {:4d}/{} hypothesis: {} Cost: {:.6f}\".format(\n",
    "        epoch, nb_epochs, hypothesis.squeeze().detach(), cost.item()  # detach는 grad 소거\n",
    "    ))"
   ]
  },
  {
   "cell_type": "markdown",
   "id": "0102a7d3-bb61-4572-be47-157ac98dee3e",
   "metadata": {},
   "source": [
    "## What's Next?\n",
    "- 지금까지 적은 양의 데이터를 가지고 학습했습니다.\n",
    "- 하지만 딥러닝은 많은 양의 데이터와 함께할 때 빛을 발합니다. (컴퓨터에 다 넣지 못할 정도의)\n",
    "- PyTorch에서는 많은 양의 데이터를 어떻게 다룰까요?"
   ]
  }
 ],
 "metadata": {
  "kernelspec": {
   "display_name": "Python 3 (ipykernel)",
   "language": "python",
   "name": "python3"
  },
  "language_info": {
   "codemirror_mode": {
    "name": "ipython",
    "version": 3
   },
   "file_extension": ".py",
   "mimetype": "text/x-python",
   "name": "python",
   "nbconvert_exporter": "python",
   "pygments_lexer": "ipython3",
   "version": "3.9.13"
  }
 },
 "nbformat": 4,
 "nbformat_minor": 5
}
