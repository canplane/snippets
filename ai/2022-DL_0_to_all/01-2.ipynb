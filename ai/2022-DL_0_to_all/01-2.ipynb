{
 "cells": [
  {
   "cell_type": "markdown",
   "id": "05c2f076-8624-4bae-81ce-d5b83fa04e4f",
   "metadata": {},
   "source": [
    "# Lab-01-2 Tensor Manipulation 2"
   ]
  },
  {
   "cell_type": "code",
   "execution_count": 1,
   "id": "7ba1fc4a-c54a-4f81-b138-0aea8590d3e2",
   "metadata": {},
   "outputs": [],
   "source": [
    "import numpy as np\n",
    "import torch"
   ]
  },
  {
   "cell_type": "markdown",
   "id": "91ec4ec0-ea35-44f4-9bf6-ff515f498e30",
   "metadata": {},
   "source": [
    "## View (Reshape in NumPy)\n",
    "\n",
    "매우 중요함. shape를 내 생각대로 자유자재로 바꿀 수 있어야 함."
   ]
  },
  {
   "cell_type": "code",
   "execution_count": 4,
   "id": "60c251a2-dd8a-488f-ae1c-9e9d8d5a03e8",
   "metadata": {},
   "outputs": [
    {
     "name": "stdout",
     "output_type": "stream",
     "text": [
      "torch.Size([2, 2, 3])\n"
     ]
    }
   ],
   "source": [
    "t = np.array([[[0, 1, 2],\n",
    "               [3, 4, 5]],\n",
    "            \n",
    "              [[6, 7, 8],\n",
    "               [9, 10, 11]]])\n",
    "ft = torch.FloatTensor(t)\n",
    "print(ft.shape)              # |ft| = (2, 2, 3)"
   ]
  },
  {
   "cell_type": "code",
   "execution_count": 5,
   "id": "d4013c30-e7fe-49fe-a1f4-5ffd0dba0963",
   "metadata": {},
   "outputs": [
    {
     "name": "stdout",
     "output_type": "stream",
     "text": [
      "tensor([[ 0.,  1.,  2.],\n",
      "        [ 3.,  4.,  5.],\n",
      "        [ 6.,  7.,  8.],\n",
      "        [ 9., 10., 11.]])\n",
      "torch.Size([4, 3])\n"
     ]
    }
   ],
   "source": [
    "print(ft.view([-1, 3]))      # => (2x2, 3) = (4, 3)\n",
    "print(ft.view([-1, 3]).shape)"
   ]
  },
  {
   "cell_type": "code",
   "execution_count": 7,
   "id": "5da63661-3811-4f9f-9c45-88e04240c8d8",
   "metadata": {},
   "outputs": [
    {
     "name": "stdout",
     "output_type": "stream",
     "text": [
      "tensor([[[ 0.,  1.,  2.]],\n",
      "\n",
      "        [[ 3.,  4.,  5.]],\n",
      "\n",
      "        [[ 6.,  7.,  8.]],\n",
      "\n",
      "        [[ 9., 10., 11.]]])\n",
      "torch.Size([4, 1, 3])\n"
     ]
    }
   ],
   "source": [
    "print(ft.view([-1, 1, 3]))   # => (2x2, 1, 3) = (4, 1, 3) \n",
    "print(ft.view([-1, 1, 3]).shape)"
   ]
  },
  {
   "cell_type": "markdown",
   "id": "b32d32dc-b24d-4638-b71e-abb066f05edc",
   "metadata": {},
   "source": [
    "## Squeeze\n",
    "\n",
    "view와 달리 squeeze에서는 자동으로 어떤 dimension의 element 수가 1인 경우에 그 dimension을 없애 준다.\n",
    "\n",
    "`squeeze(dim=0)`을 하면 dimension 0에서 element가 1이면 dimension 없애 줌."
   ]
  },
  {
   "cell_type": "code",
   "execution_count": 8,
   "id": "daad4069-62f6-4cc4-80a2-49e588df66c3",
   "metadata": {},
   "outputs": [
    {
     "name": "stdout",
     "output_type": "stream",
     "text": [
      "tensor([[0.],\n",
      "        [1.],\n",
      "        [2.]])\n",
      "torch.Size([3, 1])\n"
     ]
    }
   ],
   "source": [
    "ft = torch.FloatTensor([[0], [1], [2]])\n",
    "print(ft)\n",
    "print(ft.shape)"
   ]
  },
  {
   "cell_type": "code",
   "execution_count": 24,
   "id": "d248bfb6-0f0f-44eb-af31-fd44ff9974fd",
   "metadata": {},
   "outputs": [
    {
     "name": "stdout",
     "output_type": "stream",
     "text": [
      "tensor([0., 1., 2.])\n",
      "torch.Size([3])\n"
     ]
    }
   ],
   "source": [
    "print(ft.squeeze())      # (3, 1) => (3,)\n",
    "print(ft.squeeze().shape)"
   ]
  },
  {
   "cell_type": "markdown",
   "id": "6429b8ab-4c52-4b8f-8eb5-392f2639470b",
   "metadata": {},
   "source": [
    "## Unsqueeze\n",
    "\n",
    "`|ft| = (3,)`일 때 `dim=0`이면 `(1, 3)`, `dim=1`이면 `(3, 1)`."
   ]
  },
  {
   "cell_type": "code",
   "execution_count": 11,
   "id": "3df38bd0-a32b-419e-a6f5-a9a478094036",
   "metadata": {},
   "outputs": [
    {
     "name": "stdout",
     "output_type": "stream",
     "text": [
      "torch.Size([3])\n"
     ]
    }
   ],
   "source": [
    "ft = torch.Tensor([0, 1, 2])\n",
    "print(ft.shape)"
   ]
  },
  {
   "cell_type": "code",
   "execution_count": 12,
   "id": "d5a8e194-8447-49dc-8dfb-03b4612538e7",
   "metadata": {},
   "outputs": [
    {
     "name": "stdout",
     "output_type": "stream",
     "text": [
      "tensor([[0., 1., 2.]])\n",
      "torch.Size([1, 3])\n"
     ]
    }
   ],
   "source": [
    "print(ft.unsqueeze(0))\n",
    "print(ft.unsqueeze(0).shape)"
   ]
  },
  {
   "cell_type": "code",
   "execution_count": 13,
   "id": "badc65cb-b449-4c38-ba24-eade4c772a91",
   "metadata": {},
   "outputs": [
    {
     "name": "stdout",
     "output_type": "stream",
     "text": [
      "tensor([[0., 1., 2.]])\n",
      "torch.Size([1, 3])\n"
     ]
    }
   ],
   "source": [
    "print(ft.view(1, -1))\n",
    "print(ft.view(1, -1).shape)"
   ]
  },
  {
   "cell_type": "code",
   "execution_count": 14,
   "id": "46091ac3-6f04-4659-9c49-ae994917f390",
   "metadata": {},
   "outputs": [
    {
     "name": "stdout",
     "output_type": "stream",
     "text": [
      "tensor([[0.],\n",
      "        [1.],\n",
      "        [2.]])\n",
      "torch.Size([3, 1])\n"
     ]
    }
   ],
   "source": [
    "print(ft.unsqueeze(1))\n",
    "print(ft.unsqueeze(1).shape)"
   ]
  },
  {
   "cell_type": "code",
   "execution_count": 15,
   "id": "5cadd1b6-0194-45af-944b-ce22a01e51dc",
   "metadata": {},
   "outputs": [
    {
     "name": "stdout",
     "output_type": "stream",
     "text": [
      "tensor([[0.],\n",
      "        [1.],\n",
      "        [2.]])\n",
      "torch.Size([3, 1])\n"
     ]
    }
   ],
   "source": [
    "print(ft.unsqueeze(-1))\n",
    "print(ft.unsqueeze(-1).shape)"
   ]
  },
  {
   "cell_type": "markdown",
   "id": "f11de258-de48-471d-8879-de72b5f0755c",
   "metadata": {},
   "source": [
    "## Type Casting"
   ]
  },
  {
   "cell_type": "code",
   "execution_count": 16,
   "id": "cd87ff3c-afa9-425b-adad-7d56cac261ec",
   "metadata": {},
   "outputs": [
    {
     "name": "stdout",
     "output_type": "stream",
     "text": [
      "tensor([1, 2, 3, 4])\n"
     ]
    }
   ],
   "source": [
    "lt = torch.LongTensor([1, 2, 3, 4])\n",
    "print(lt)"
   ]
  },
  {
   "cell_type": "code",
   "execution_count": 17,
   "id": "8a9f83d3-fa30-48fd-aacc-65af6019193e",
   "metadata": {},
   "outputs": [
    {
     "name": "stdout",
     "output_type": "stream",
     "text": [
      "tensor([1., 2., 3., 4.])\n"
     ]
    }
   ],
   "source": [
    "print(lt.float())"
   ]
  },
  {
   "cell_type": "code",
   "execution_count": 18,
   "id": "df883064-ccdc-4a1a-9a2b-08f71e9b53b6",
   "metadata": {},
   "outputs": [
    {
     "name": "stdout",
     "output_type": "stream",
     "text": [
      "tensor([1, 0, 0, 1], dtype=torch.uint8)\n"
     ]
    }
   ],
   "source": [
    "bt = torch.ByteTensor([True, False, False, True])\n",
    "print(bt)"
   ]
  },
  {
   "cell_type": "code",
   "execution_count": 19,
   "id": "ab851d6f-071c-4027-8093-90a9bfab6792",
   "metadata": {},
   "outputs": [
    {
     "name": "stdout",
     "output_type": "stream",
     "text": [
      "tensor([1, 0, 0, 1])\n",
      "tensor([1., 0., 0., 1.])\n"
     ]
    }
   ],
   "source": [
    "print(bt.long())\n",
    "print(bt.float())"
   ]
  },
  {
   "cell_type": "markdown",
   "id": "8218f923-7653-45f6-80d4-e7171c8bfce9",
   "metadata": {},
   "source": [
    "## Concatenate"
   ]
  },
  {
   "cell_type": "code",
   "execution_count": 20,
   "id": "4c73e569-5401-44e1-8fa3-e1b6144048bd",
   "metadata": {},
   "outputs": [],
   "source": [
    "x = torch.FloatTensor([[1, 2], [3, 4]])\n",
    "y = torch.FloatTensor([[5, 6], [7, 8]])"
   ]
  },
  {
   "cell_type": "code",
   "execution_count": 21,
   "id": "c7cb3f88-ac37-4c0f-bed0-18b4cf9274a5",
   "metadata": {},
   "outputs": [
    {
     "name": "stdout",
     "output_type": "stream",
     "text": [
      "tensor([[1., 2.],\n",
      "        [3., 4.],\n",
      "        [5., 6.],\n",
      "        [7., 8.]])\n",
      "tensor([[1., 2., 5., 6.],\n",
      "        [3., 4., 7., 8.]])\n"
     ]
    }
   ],
   "source": [
    "print(torch.cat([x, y], dim=0))\n",
    "print(torch.cat([x, y], dim=1))"
   ]
  },
  {
   "cell_type": "markdown",
   "id": "5429d87c-cda4-4186-88d7-ac12ef32b227",
   "metadata": {},
   "source": [
    "## Stacking"
   ]
  },
  {
   "cell_type": "code",
   "execution_count": 27,
   "id": "f3c7058b-c4a1-4648-96b2-55e9c8ccf73c",
   "metadata": {},
   "outputs": [],
   "source": [
    "# |x| = |y| = |z| = (2,)\n",
    "x = torch.FloatTensor([1, 4])\n",
    "y = torch.FloatTensor([2, 5])\n",
    "z = torch.FloatTensor([3, 6])"
   ]
  },
  {
   "cell_type": "code",
   "execution_count": 25,
   "id": "7572b8b7-2fe2-4724-b9da-d40edc4fd57b",
   "metadata": {},
   "outputs": [
    {
     "name": "stdout",
     "output_type": "stream",
     "text": [
      "tensor([[1., 4.],\n",
      "        [2., 5.],\n",
      "        [3., 6.]])\n",
      "tensor([[1., 2., 3.],\n",
      "        [4., 5., 6.]])\n"
     ]
    }
   ],
   "source": [
    "print(torch.stack([x, y, z]))\n",
    "print(torch.stack([x, y, z], dim=1))"
   ]
  },
  {
   "cell_type": "code",
   "execution_count": 28,
   "id": "9c9f5803-b610-43e7-80dc-19124b35f8e5",
   "metadata": {},
   "outputs": [
    {
     "name": "stdout",
     "output_type": "stream",
     "text": [
      "tensor([[1., 4.],\n",
      "        [2., 5.],\n",
      "        [3., 6.]])\n"
     ]
    }
   ],
   "source": [
    "# equivalent (x.unsqueeze(0) : (1, 2))\n",
    "print(torch.cat([x.unsqueeze(0), y.unsqueeze(0), z.unsqueeze(0)], dim=0))"
   ]
  },
  {
   "cell_type": "markdown",
   "id": "9aee430f-c853-4476-a537-e46416891cb8",
   "metadata": {},
   "source": [
    "## Ones and Zeros"
   ]
  },
  {
   "cell_type": "code",
   "execution_count": 30,
   "id": "56345cc3-37b9-4caf-a2ee-b7fee7713b0c",
   "metadata": {},
   "outputs": [
    {
     "name": "stdout",
     "output_type": "stream",
     "text": [
      "tensor([[0., 1., 2.],\n",
      "        [2., 1., 0.]])\n"
     ]
    }
   ],
   "source": [
    "x = torch.FloatTensor([[0, 1, 2], [2, 1, 0]])\n",
    "print(x)"
   ]
  },
  {
   "cell_type": "code",
   "execution_count": 31,
   "id": "b313c279-7114-4d8b-9866-e33e23c17ac8",
   "metadata": {},
   "outputs": [
    {
     "name": "stdout",
     "output_type": "stream",
     "text": [
      "tensor([[1., 1., 1.],\n",
      "        [1., 1., 1.]])\n",
      "tensor([[0., 0., 0.],\n",
      "        [0., 0., 0.]])\n"
     ]
    }
   ],
   "source": [
    "print(torch.ones_like(x))    # same shape (size)\n",
    "print(torch.zeros_like(x))"
   ]
  },
  {
   "cell_type": "markdown",
   "id": "3cac93ec-ecc7-48c0-92cd-d97922623f0e",
   "metadata": {},
   "source": [
    "복잡한 모델을 이용하다 보면 같은 device (같은 CPU 코어, GPU라든가)에 있어야만 연산이 가능할 때가 있는데, `ones_like()`, `zeros_like()`을 쓰면 동일한 device 안에서 데이터를 생성해 줄 것. "
   ]
  },
  {
   "cell_type": "markdown",
   "id": "04a61343-e865-45f9-b6d9-fe78a609e292",
   "metadata": {},
   "source": [
    "## In-place Operation"
   ]
  },
  {
   "cell_type": "code",
   "execution_count": 32,
   "id": "594fb923-5e82-4df2-9107-3757016976fc",
   "metadata": {},
   "outputs": [],
   "source": [
    "x = torch.FloatTensor([[1, 2], [3, 4]])"
   ]
  },
  {
   "cell_type": "code",
   "execution_count": 34,
   "id": "0a918405-810f-47d3-afe3-2e6b191360d1",
   "metadata": {},
   "outputs": [
    {
     "name": "stdout",
     "output_type": "stream",
     "text": [
      "tensor([[ 4.,  8.],\n",
      "        [12., 16.]])\n",
      "tensor([[2., 4.],\n",
      "        [6., 8.]])\n",
      "tensor([[ 4.,  8.],\n",
      "        [12., 16.]])\n",
      "tensor([[ 4.,  8.],\n",
      "        [12., 16.]])\n"
     ]
    }
   ],
   "source": [
    "print(x.mul(2.))    # x x 2\n",
    "print(x)\n",
    "print(x.mul_(2.))   # x x 2 => _를 뒤에 달아주면 mutable. (새로운 텐서를 할당해 줄 필요가 없다.)\n",
    "print(x)"
   ]
  },
  {
   "cell_type": "markdown",
   "id": "e1732850-571b-4a3b-abef-fd6ea418d0f2",
   "metadata": {},
   "source": [
    "그러나, PyTorch는 가비지 컬렉터가 잘 작동하기 때문에, in-place 연산이 효율 측면에서 크게 이득을 주진 않을 수 있다고 공식에서는 설명하고 있음."
   ]
  }
 ],
 "metadata": {
  "kernelspec": {
   "display_name": "Python 3 (ipykernel)",
   "language": "python",
   "name": "python3"
  },
  "language_info": {
   "codemirror_mode": {
    "name": "ipython",
    "version": 3
   },
   "file_extension": ".py",
   "mimetype": "text/x-python",
   "name": "python",
   "nbconvert_exporter": "python",
   "pygments_lexer": "ipython3",
   "version": "3.9.13"
  }
 },
 "nbformat": 4,
 "nbformat_minor": 5
}
