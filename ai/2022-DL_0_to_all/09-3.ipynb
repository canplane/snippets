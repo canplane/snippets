{
 "cells": [
  {
   "cell_type": "markdown",
   "id": "b89a52c4-8686-4422-adbf-1c0e2971394c",
   "metadata": {},
   "source": [
    "# Lab-09-3 Dropout\n",
    "\n",
    "- Overfitting\n",
    "- Dropout\n",
    "- Code: mnist_nn_dropout"
   ]
  },
  {
   "cell_type": "markdown",
   "id": "28ed0c4a-47c6-477b-9bfc-0cd3067cffbf",
   "metadata": {},
   "source": [
    "## Overfitting\n",
    "\n",
    "Test set / Train set\n",
    "\n",
    "- Very high accuracy on the training dataset (e.g., 0.99)\n",
    "- Poor accuracy on the test dataset (e.g., 0.85)\n",
    "\n",
    "## Solutions for overfitting\n",
    "\n",
    "- More training data\n",
    "- Reduce the number of features\n",
    "- Regularization\n",
    "- **Dropout !**\n",
    "\n",
    "학습을 진행하면서 노드 또는 뉴런을 설정된 비율에 따라 무작위로 껐다 켰다 하는 것."
   ]
  },
  {
   "cell_type": "markdown",
   "id": "2c2edf1b-a004-468a-b7e3-ac42a5dfbf09",
   "metadata": {},
   "source": [
    "## Code: mnist_nn_dropout"
   ]
  },
  {
   "cell_type": "code",
   "execution_count": null,
   "id": "40274b13-eb50-4d6b-9db4-9bd8c250ad3f",
   "metadata": {},
   "outputs": [],
   "source": [
    "...\n",
    "\n",
    "# nn layers\n",
    "linear1 = torch.nn.Linear(784, 512, bias=True)\n",
    "linear2 = torch.nn.Linear(512, 512, bias=True)\n",
    "linear3 = torch.nn.Linear(512, 512, bias=True)\n",
    "linear4 = torch.nn.Linear(512, 512, bias=True)\n",
    "linear5 = torch.nn.Linear(512, 10, bias-True)\n",
    "relu = torch.nn.ReLU()\n",
    "dropout = torch.nn.Dropout(p=drop_prob)   # p는 probability\n",
    "\n",
    "# model\n",
    "model = torch.nn.Sequential(linear1, relu, dropout,\n",
    "                           linear2, relu, dropout,\n",
    "                           linear3, relu, dropout,\n",
    "                           linear4, relu, dropout,\n",
    "                           linear5).to(device)"
   ]
  },
  {
   "cell_type": "markdown",
   "id": "ec94aa86-4a7b-456a-9e68-f41f5ad905a0",
   "metadata": {},
   "source": [
    "## Train & eval mode"
   ]
  },
  {
   "cell_type": "code",
   "execution_count": null,
   "id": "52820952-ac92-48de-8ed4-f8901becb68f",
   "metadata": {},
   "outputs": [],
   "source": [
    "...\n",
    "total_batch = len(data_loader)\n",
    "model.train()   # set the model to train mode (dropout=True)\n",
    "for epoch in range(training_epochs):\n",
    "    ...\n",
    "    \n",
    "    ...\n",
    "    # Test model and check accuracy\n",
    "    with torch.no_grad():\n",
    "        model.eval()    # set the model to evaluation mode (dropout=False)\n",
    "    ..."
   ]
  },
  {
   "cell_type": "markdown",
   "id": "1203805a-055a-4cb1-9585-fa50778dc32a",
   "metadata": {},
   "source": [
    "**model.train() & model.eval()**\n",
    "- Sets the module in training/evaluation mode.\n",
    "- This has any effect only on certain modules. See documentations of particular modules for details of their behaviors in training/evaluation mode, if they are affected, e.g. `Dropout`, `BatchNorm`, etc.\n",
    "\n",
    "드롭아웃 사용할 때 주의할 점 : 실제 eval. 테스트셋 사용할 때는 모든 노드를 전부 다 사용해서 학습해야 함.\n",
    "\n",
    "그래서 드롭아웃 사용할 때는 train/eval 모드 지정해야 함.\n",
    "- train : 모델 안에서 dropout 적용하겠다.\n",
    "- eval : dropout 사용하지 않겠다. 전체 노드 사용하겠다."
   ]
  },
  {
   "cell_type": "code",
   "execution_count": null,
   "id": "c5c25676-341e-4879-babd-56d60a8dc101",
   "metadata": {},
   "outputs": [],
   "source": []
  }
 ],
 "metadata": {
  "kernelspec": {
   "display_name": "Python 3 (ipykernel)",
   "language": "python",
   "name": "python3"
  },
  "language_info": {
   "codemirror_mode": {
    "name": "ipython",
    "version": 3
   },
   "file_extension": ".py",
   "mimetype": "text/x-python",
   "name": "python",
   "nbconvert_exporter": "python",
   "pygments_lexer": "ipython3",
   "version": "3.9.13"
  }
 },
 "nbformat": 4,
 "nbformat_minor": 5
}
