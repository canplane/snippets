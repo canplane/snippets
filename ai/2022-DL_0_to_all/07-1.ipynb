{
 "cells": [
  {
   "cell_type": "markdown",
   "id": "1ca7b1fc-f40d-43d9-a9e5-ab4ab09714c4",
   "metadata": {},
   "source": [
    "# Lab-07-1 Tips\n",
    "\n",
    "- Reminder : Maximum Likelihood Estimation\n",
    "- Reminder : Optimization via Gradient Descent\n",
    "- Reminder : Overfitting and Regularization\n",
    "- Training and Test Dataset\n",
    "- Learning Rate\n",
    "- Data Preprocessing"
   ]
  },
  {
   "cell_type": "markdown",
   "id": "c0e2cb23-7f7c-41f3-8d56-e34ffd94e378",
   "metadata": {},
   "source": [
    "*(이론은 따로 필기)*"
   ]
  },
  {
   "cell_type": "markdown",
   "id": "9bebb3b0-b52d-4576-8e0d-b1d0bef2646a",
   "metadata": {},
   "source": [
    "## Imports"
   ]
  },
  {
   "cell_type": "code",
   "execution_count": 1,
   "id": "f61449cc-ac66-43b4-a09a-620ed397159f",
   "metadata": {},
   "outputs": [],
   "source": [
    "import torch\n",
    "import torch.nn as nn\n",
    "import torch.nn.functional as F\n",
    "import torch.optim as optim"
   ]
  },
  {
   "cell_type": "code",
   "execution_count": 2,
   "id": "06654a45-a775-4bce-a3ea-f4e168cc7467",
   "metadata": {},
   "outputs": [
    {
     "data": {
      "text/plain": [
       "<torch._C.Generator at 0x7f91403ebf90>"
      ]
     },
     "execution_count": 2,
     "metadata": {},
     "output_type": "execute_result"
    }
   ],
   "source": [
    "# For reproducibility\n",
    "torch.manual_seed(1)"
   ]
  },
  {
   "cell_type": "markdown",
   "id": "4cec3568-726d-4d52-a34d-50bdf5fda53b",
   "metadata": {},
   "source": [
    "## Training and Test Dataset"
   ]
  },
  {
   "cell_type": "code",
   "execution_count": 6,
   "id": "f5f93694-a123-4262-8823-a11d088397b7",
   "metadata": {},
   "outputs": [],
   "source": [
    "# |x_train| = (m, 3), |y_train| = (m,)\n",
    "x_train = torch.FloatTensor([[1, 2, 1],\n",
    "                             [1, 3, 2],\n",
    "                             [1, 3, 4],\n",
    "                             [1, 5, 5],\n",
    "                             [1, 7, 5],\n",
    "                             [1, 2, 5],\n",
    "                             [1, 6, 6],\n",
    "                             [1, 7, 7]\n",
    "                            ])\n",
    "y_train = torch.LongTensor([2, 2, 2, 1, 1, 1, 0, 0])\n",
    "# one-hot vector의 인덱스들을 m개 갖고 있음."
   ]
  },
  {
   "cell_type": "code",
   "execution_count": 7,
   "id": "ea38d8a0-bc03-440a-a8ec-6f61f01449c8",
   "metadata": {},
   "outputs": [],
   "source": [
    "# |x_test| = (m', 3), |y_test| = (m',)\n",
    "x_test = torch.FloatTensor([[2, 1, 1], [3, 1, 2], [3, 3, 4]])\n",
    "y_test = torch.LongTensor([2, 2, 2])"
   ]
  },
  {
   "cell_type": "markdown",
   "id": "42b50c68-388a-4311-bf27-b636ff26c240",
   "metadata": {},
   "source": [
    "## Model"
   ]
  },
  {
   "cell_type": "code",
   "execution_count": 8,
   "id": "a45e227a-8c21-4794-97b5-f5f5bda485fe",
   "metadata": {},
   "outputs": [],
   "source": [
    "class SoftmaxClassifierModel(nn.Module):\n",
    "    def __init__(self):\n",
    "        super().__init__()\n",
    "        self.linear = nn.Linear(3, 3)  # 3 => 3\n",
    "    def forward(self, x):              # |x| = (m, 3) => (m, 3)\n",
    "        return self.linear(x)"
   ]
  },
  {
   "cell_type": "code",
   "execution_count": 9,
   "id": "75f8aa6e-279e-4dcb-a9c0-f0642860205b",
   "metadata": {},
   "outputs": [],
   "source": [
    "model = SoftmaxClassifierModel()"
   ]
  },
  {
   "cell_type": "code",
   "execution_count": 10,
   "id": "0d36e3e5-47cc-44ba-938a-261875b62e87",
   "metadata": {},
   "outputs": [],
   "source": [
    "# optimizer\n",
    "optimizer = optim.SGD(model.parameters(), lr=0.1)"
   ]
  },
  {
   "cell_type": "markdown",
   "id": "216df334-e483-4d7c-a5bc-a374f81a3382",
   "metadata": {},
   "source": [
    "## Training"
   ]
  },
  {
   "cell_type": "code",
   "execution_count": 12,
   "id": "717e94d9-876d-4369-9143-9996dce60de6",
   "metadata": {},
   "outputs": [],
   "source": [
    "def train(model, optimizer, x_train, y_train):\n",
    "    nb_epochs = 20\n",
    "    for epoch in range(nb_epochs):\n",
    "        \n",
    "        # H(x) 계산\n",
    "        prediction = model(x_train)   # |x_train| = (m, 3) => |prediction| = (m, 3)\n",
    "        \n",
    "        # cost 계산\n",
    "        cost = F.cross_entropy(prediction, y_train)   # |y_train| = (m,)\n",
    "        \n",
    "        # cost로 H(x) 개선\n",
    "        optimizer.zero_grad()\n",
    "        cost.backward()         # back propagation하고\n",
    "        optimizer.step()        # gradient descent 수행\n",
    "        \n",
    "        print(\"Epoch {:4d}/{} Cost: {:.6f}\".format(epoch, nb_epochs, cost.item()))"
   ]
  },
  {
   "cell_type": "markdown",
   "id": "1aeb681e-7438-435d-b80c-d59d740f7b62",
   "metadata": {},
   "source": [
    "## Test (Validation)"
   ]
  },
  {
   "cell_type": "code",
   "execution_count": 14,
   "id": "9e4d9be8-0743-49a1-948f-3839304b451e",
   "metadata": {},
   "outputs": [],
   "source": [
    "def test(model, optimizer, x_test, y_test):\n",
    "    prediction = model(x_test)                   # |x_test| = (m', 3) => |prediction| = (m', 3)\n",
    "    predicted_classes = prediction.max(1)[1]\n",
    "    correct_count = (predicted_classes == y_test).sum().item()\n",
    "    cost = F.cross_entropy(prediction, y_test)\n",
    "    \n",
    "    print(\"Accuracy: {}% Cost: {:.6f}\".format(correct_count / len(y_test) * 100, cost.item()))"
   ]
  },
  {
   "cell_type": "markdown",
   "id": "e1b22395-479a-489c-bf31-1fa405069223",
   "metadata": {},
   "source": [
    "## Run"
   ]
  },
  {
   "cell_type": "code",
   "execution_count": 20,
   "id": "c603b635-4752-4bf9-a478-b47afa137afc",
   "metadata": {},
   "outputs": [
    {
     "name": "stdout",
     "output_type": "stream",
     "text": [
      "Epoch    0/20 Cost: 0.760971\n",
      "Epoch    1/20 Cost: 0.758703\n",
      "Epoch    2/20 Cost: 0.756465\n",
      "Epoch    3/20 Cost: 0.754255\n",
      "Epoch    4/20 Cost: 0.752074\n",
      "Epoch    5/20 Cost: 0.749921\n",
      "Epoch    6/20 Cost: 0.747795\n",
      "Epoch    7/20 Cost: 0.745696\n",
      "Epoch    8/20 Cost: 0.743623\n",
      "Epoch    9/20 Cost: 0.741576\n",
      "Epoch   10/20 Cost: 0.739554\n",
      "Epoch   11/20 Cost: 0.737557\n",
      "Epoch   12/20 Cost: 0.735584\n",
      "Epoch   13/20 Cost: 0.733635\n",
      "Epoch   14/20 Cost: 0.731709\n",
      "Epoch   15/20 Cost: 0.729807\n",
      "Epoch   16/20 Cost: 0.727927\n",
      "Epoch   17/20 Cost: 0.726069\n",
      "Epoch   18/20 Cost: 0.724233\n",
      "Epoch   19/20 Cost: 0.722418\n"
     ]
    }
   ],
   "source": [
    "train(model, optimizer, x_train, y_train)\n",
    "# x_train, y_train을 잘 설명하는 neural network의 parameter(model에 있음)가 optimizer를 통해 찾아지고 있는 것.\n",
    "# parameter θ가 MLE를 통해서."
   ]
  },
  {
   "cell_type": "code",
   "execution_count": 22,
   "id": "b4dda3be-dcec-4431-afe9-50d9c87150a1",
   "metadata": {},
   "outputs": [
    {
     "name": "stdout",
     "output_type": "stream",
     "text": [
      "Accuracy: 100.0% Cost: 0.160411\n"
     ]
    }
   ],
   "source": [
    "test(model, optimizer, x_test, y_test)\n",
    "# loss 값이 높아졌다! -> test loss가 올라감. (overfitting)"
   ]
  },
  {
   "cell_type": "markdown",
   "id": "40a3577a-f5fa-4bf7-9588-a0141f45fbff",
   "metadata": {},
   "source": [
    "## Learning rate\n",
    "learning rate이 너무 크면 diverge 하면서 cost가 점점 늘어난다 (**overshooting**).\n",
    "\n",
    "$\\theta \\leftarrow \\theta - \\alpha \\nabla_\\theta L(x; \\theta)$ ($\\alpha$ : learning rate)"
   ]
  },
  {
   "cell_type": "code",
   "execution_count": 23,
   "id": "c402dc5e-48ae-4286-8291-3600d38ade17",
   "metadata": {},
   "outputs": [],
   "source": [
    "model = SoftmaxClassifierModel()"
   ]
  },
  {
   "cell_type": "code",
   "execution_count": 24,
   "id": "c6df66f1-6e62-4491-80f6-68f6349f94c5",
   "metadata": {},
   "outputs": [],
   "source": [
    "optimizer = optim.SGD(model.parameters(), lr=1e5)"
   ]
  },
  {
   "cell_type": "code",
   "execution_count": 27,
   "id": "e552d5a8-2e2d-4966-8c9b-6d85f003568b",
   "metadata": {},
   "outputs": [
    {
     "name": "stdout",
     "output_type": "stream",
     "text": [
      "Epoch    0/20 Cost: 200090.937500\n",
      "Epoch    1/20 Cost: 1105673.750000\n",
      "Epoch    2/20 Cost: 646816.500000\n",
      "Epoch    3/20 Cost: 1064450.750000\n",
      "Epoch    4/20 Cost: 1935385.125000\n",
      "Epoch    5/20 Cost: 307693.093750\n",
      "Epoch    6/20 Cost: 1494736.250000\n",
      "Epoch    7/20 Cost: 668691.500000\n",
      "Epoch    8/20 Cost: 661218.437500\n",
      "Epoch    9/20 Cost: 541635.062500\n",
      "Epoch   10/20 Cost: 1676443.125000\n",
      "Epoch   11/20 Cost: 261552.109375\n",
      "Epoch   12/20 Cost: 1099382.750000\n",
      "Epoch   13/20 Cost: 818691.500000\n",
      "Epoch   14/20 Cost: 1115072.625000\n",
      "Epoch   15/20 Cost: 1478513.250000\n",
      "Epoch   16/20 Cost: 738486.250000\n",
      "Epoch   17/20 Cost: 827507.750000\n",
      "Epoch   18/20 Cost: 643767.250000\n",
      "Epoch   19/20 Cost: 135823.000000\n"
     ]
    }
   ],
   "source": [
    "train(model, optimizer, x_train, y_train)\n",
    "# 점점 커지고 있다!"
   ]
  },
  {
   "cell_type": "markdown",
   "id": "4b3f4177-adfc-4d49-a81c-60cc642b9017",
   "metadata": {},
   "source": [
    "learning rate이 너무 작으면 cost가 거의 줄어들지 않는다."
   ]
  },
  {
   "cell_type": "code",
   "execution_count": 28,
   "id": "5aee0338-e9cc-4b90-a5f6-9af5de13006a",
   "metadata": {},
   "outputs": [],
   "source": [
    "model = SoftmaxClassifierModel()"
   ]
  },
  {
   "cell_type": "code",
   "execution_count": 29,
   "id": "0f12eb81-0a21-485e-bd80-d6cdc1b969db",
   "metadata": {},
   "outputs": [],
   "source": [
    "optimizer = optim.SGD(model.parameters(), lr=1e-10)"
   ]
  },
  {
   "cell_type": "code",
   "execution_count": 30,
   "id": "78da22c1-201b-48e3-885c-764cabc24b98",
   "metadata": {},
   "outputs": [
    {
     "name": "stdout",
     "output_type": "stream",
     "text": [
      "Epoch    0/20 Cost: 3.187324\n",
      "Epoch    1/20 Cost: 3.187324\n",
      "Epoch    2/20 Cost: 3.187324\n",
      "Epoch    3/20 Cost: 3.187324\n",
      "Epoch    4/20 Cost: 3.187324\n",
      "Epoch    5/20 Cost: 3.187324\n",
      "Epoch    6/20 Cost: 3.187324\n",
      "Epoch    7/20 Cost: 3.187324\n",
      "Epoch    8/20 Cost: 3.187324\n",
      "Epoch    9/20 Cost: 3.187324\n",
      "Epoch   10/20 Cost: 3.187324\n",
      "Epoch   11/20 Cost: 3.187324\n",
      "Epoch   12/20 Cost: 3.187324\n",
      "Epoch   13/20 Cost: 3.187324\n",
      "Epoch   14/20 Cost: 3.187324\n",
      "Epoch   15/20 Cost: 3.187324\n",
      "Epoch   16/20 Cost: 3.187324\n",
      "Epoch   17/20 Cost: 3.187324\n",
      "Epoch   18/20 Cost: 3.187324\n",
      "Epoch   19/20 Cost: 3.187324\n"
     ]
    }
   ],
   "source": [
    "train(model, optimizer, x_train, y_train)"
   ]
  },
  {
   "cell_type": "markdown",
   "id": "53e6d4bf-565c-4d3d-8df9-6e9c608f7f1d",
   "metadata": {},
   "source": [
    "적절한 숫자로 시작해 발산하면 작게, cost가 줄어들지 않으면 크게 조정하자."
   ]
  },
  {
   "cell_type": "code",
   "execution_count": 31,
   "id": "cfca95d6-e61e-4d28-a58f-eff207a45f24",
   "metadata": {},
   "outputs": [],
   "source": [
    "model = SoftmaxClassifierModel()"
   ]
  },
  {
   "cell_type": "code",
   "execution_count": 34,
   "id": "41fe0edc-f97a-4819-b33a-a356b490aa4d",
   "metadata": {},
   "outputs": [],
   "source": [
    "optimizer = optim.SGD(model.parameters(), lr=1e-1)   # 0.1"
   ]
  },
  {
   "cell_type": "code",
   "execution_count": 33,
   "id": "690141c8-6701-4548-a4b0-b264361dc4f0",
   "metadata": {},
   "outputs": [
    {
     "name": "stdout",
     "output_type": "stream",
     "text": [
      "Epoch    0/20 Cost: 1.341574\n",
      "Epoch    1/20 Cost: 1.198802\n",
      "Epoch    2/20 Cost: 1.150877\n",
      "Epoch    3/20 Cost: 1.131977\n",
      "Epoch    4/20 Cost: 1.116242\n",
      "Epoch    5/20 Cost: 1.102514\n",
      "Epoch    6/20 Cost: 1.089676\n",
      "Epoch    7/20 Cost: 1.077479\n",
      "Epoch    8/20 Cost: 1.065775\n",
      "Epoch    9/20 Cost: 1.054511\n",
      "Epoch   10/20 Cost: 1.043655\n",
      "Epoch   11/20 Cost: 1.033187\n",
      "Epoch   12/20 Cost: 1.023091\n",
      "Epoch   13/20 Cost: 1.013356\n",
      "Epoch   14/20 Cost: 1.003968\n",
      "Epoch   15/20 Cost: 0.994917\n",
      "Epoch   16/20 Cost: 0.986189\n",
      "Epoch   17/20 Cost: 0.977775\n",
      "Epoch   18/20 Cost: 0.969661\n",
      "Epoch   19/20 Cost: 0.961836\n"
     ]
    }
   ],
   "source": [
    "train(model, optimizer, x_train, y_train)"
   ]
  },
  {
   "cell_type": "markdown",
   "id": "90073bd1-98eb-49d8-a87a-97ca2fc7e42a",
   "metadata": {},
   "source": [
    "## Data Preprocessing\n",
    "\n",
    "데이터 전처리"
   ]
  },
  {
   "cell_type": "code",
   "execution_count": 38,
   "id": "257b3f4b-134d-4326-baa7-743950a0a778",
   "metadata": {},
   "outputs": [],
   "source": [
    "# |x_train| = (m, 3), |y_train| = (m,)\n",
    "x_train = torch.FloatTensor([[73, 80, 75],\n",
    "                             [93, 88, 93],\n",
    "                             [89, 91, 90],\n",
    "                             [96, 98, 100],\n",
    "                             [73, 66, 70]])\n",
    "y_train = torch.FloatTensor([[152], [185], [180], [196], [142]])\n",
    "# regression 문제인 듯하다."
   ]
  },
  {
   "cell_type": "markdown",
   "id": "b6a4fb7b-48ec-498a-925d-0f83f05a4f64",
   "metadata": {},
   "source": [
    "이럴 땐 min-square error 값을 쓴다. (MSE)\n",
    "\n",
    "여기선 Standardization, 즉 정규분포로 만들어 주기. 우리가 가지고 있는 데이터가 정규분포를 따른다는 가정을 하고, mu, sigma 구해서 정규분포로 만들어 주기.\n",
    "\n",
    "$x_j'=\\frac{x_j - \\mu_j}{\\sigma_j}$\n",
    "\n",
    "여기서 $\\sigma$는 standard deviation, $\\mu$는 평균값 이다.\n",
    "\n",
    "$\\sim N(0, 1)$"
   ]
  },
  {
   "cell_type": "code",
   "execution_count": 39,
   "id": "0b5a8996-01b7-4554-85b7-d8fcd149995e",
   "metadata": {},
   "outputs": [],
   "source": [
    "mu = x_train.mean(dim=0)"
   ]
  },
  {
   "cell_type": "code",
   "execution_count": 40,
   "id": "326db4ae-235f-470c-95dc-a5b92ef87744",
   "metadata": {},
   "outputs": [],
   "source": [
    "sigma = x_train.std(dim=0)"
   ]
  },
  {
   "cell_type": "code",
   "execution_count": 41,
   "id": "10da5ff8-5b69-49d8-b3de-b3eb06daca0e",
   "metadata": {},
   "outputs": [],
   "source": [
    "norm_x_train = (x_train - mu) / sigma"
   ]
  },
  {
   "cell_type": "code",
   "execution_count": 42,
   "id": "560e6b3e-339b-4480-9b76-5a159ec58942",
   "metadata": {},
   "outputs": [
    {
     "name": "stdout",
     "output_type": "stream",
     "text": [
      "tensor([[-1.0674, -0.3758, -0.8398],\n",
      "        [ 0.7418,  0.2778,  0.5863],\n",
      "        [ 0.3799,  0.5229,  0.3486],\n",
      "        [ 1.0132,  1.0948,  1.1409],\n",
      "        [-1.0674, -1.5197, -1.2360]])\n"
     ]
    }
   ],
   "source": [
    "print(norm_x_train)"
   ]
  },
  {
   "cell_type": "markdown",
   "id": "6511a83d-e214-4c6c-929a-d77982147d31",
   "metadata": {},
   "source": [
    "## Training with Preprocessed Data"
   ]
  },
  {
   "cell_type": "code",
   "execution_count": 43,
   "id": "36a57d6f-821e-410e-b177-69edccc5054e",
   "metadata": {},
   "outputs": [],
   "source": [
    "class MultivariateLinearRegressionModel(nn.Module):\n",
    "    def __init__(self):\n",
    "        super().__init__()\n",
    "        self.linear = nn.Linear(3, 1)\n",
    "    def forward(self, x):\n",
    "        return self.linear(x)"
   ]
  },
  {
   "cell_type": "code",
   "execution_count": 44,
   "id": "27017677-2212-43bc-b37b-e962268bc39e",
   "metadata": {},
   "outputs": [],
   "source": [
    "model = MultivariateLinearRegressionModel()"
   ]
  },
  {
   "cell_type": "code",
   "execution_count": 45,
   "id": "ce1969b2-3212-403f-b54e-c1f7fa58a797",
   "metadata": {},
   "outputs": [],
   "source": [
    "optimizer = optim.SGD(model.parameters(), lr=1e-1)"
   ]
  },
  {
   "cell_type": "code",
   "execution_count": 52,
   "id": "7d82cd01-5998-4a38-8605-88980fd81865",
   "metadata": {},
   "outputs": [],
   "source": [
    "def train(model, optimizer, x_train, y_train):\n",
    "    nb_epochs = 20\n",
    "    for epoch in range(nb_epochs):\n",
    "        # |x_train| = (m, 3), |prediction| = (m, 1)\n",
    "        \n",
    "        # H(x) 계산\n",
    "        prediction = model(x_train)\n",
    "        \n",
    "        # cost 계산\n",
    "        cost = F.mse_loss(prediction, y_train)\n",
    "        \n",
    "        # cost로 H(x) 개선\n",
    "        optimizer.zero_grad()\n",
    "        cost.backward()\n",
    "        optimizer.step()\n",
    "        \n",
    "        print(\"Epoch {:4d}/{} Cost: {:.6f}\".format(epoch, nb_epochs, cost.item()))"
   ]
  },
  {
   "cell_type": "code",
   "execution_count": 53,
   "id": "e0a5e78c-c04c-4944-8e8f-a04f3cf459be",
   "metadata": {},
   "outputs": [
    {
     "name": "stdout",
     "output_type": "stream",
     "text": [
      "Epoch    0/20 Cost: 0.301752\n",
      "Epoch    1/20 Cost: 0.294306\n",
      "Epoch    2/20 Cost: 0.287199\n",
      "Epoch    3/20 Cost: 0.280397\n",
      "Epoch    4/20 Cost: 0.273883\n",
      "Epoch    5/20 Cost: 0.267629\n",
      "Epoch    6/20 Cost: 0.261624\n",
      "Epoch    7/20 Cost: 0.255850\n",
      "Epoch    8/20 Cost: 0.250299\n",
      "Epoch    9/20 Cost: 0.244960\n",
      "Epoch   10/20 Cost: 0.239829\n",
      "Epoch   11/20 Cost: 0.234892\n",
      "Epoch   12/20 Cost: 0.230142\n",
      "Epoch   13/20 Cost: 0.225577\n",
      "Epoch   14/20 Cost: 0.221181\n",
      "Epoch   15/20 Cost: 0.216950\n",
      "Epoch   16/20 Cost: 0.212880\n",
      "Epoch   17/20 Cost: 0.208971\n",
      "Epoch   18/20 Cost: 0.205203\n",
      "Epoch   19/20 Cost: 0.201581\n"
     ]
    }
   ],
   "source": [
    "train(model, optimizer, norm_x_train, y_train)"
   ]
  },
  {
   "cell_type": "markdown",
   "id": "cc07554c-319a-45a4-8bfe-0da26197847f",
   "metadata": {},
   "source": [
    "왜 data preprocessing을 하는가?\n",
    "\n",
    "```\n",
    "y = [[999, 0.1], [1000, 0.2], [1010, 0.1], ...]\n",
    "```\n",
    "이런 식이면 학습에 있어 1번째 칼럼에만 집중할 것이기 때문."
   ]
  },
  {
   "cell_type": "code",
   "execution_count": null,
   "id": "1205b933-b7af-4e11-a4a2-4a933570940e",
   "metadata": {},
   "outputs": [],
   "source": []
  }
 ],
 "metadata": {
  "kernelspec": {
   "display_name": "Python 3 (ipykernel)",
   "language": "python",
   "name": "python3"
  },
  "language_info": {
   "codemirror_mode": {
    "name": "ipython",
    "version": 3
   },
   "file_extension": ".py",
   "mimetype": "text/x-python",
   "name": "python",
   "nbconvert_exporter": "python",
   "pygments_lexer": "ipython3",
   "version": "3.9.13"
  }
 },
 "nbformat": 4,
 "nbformat_minor": 5
}
