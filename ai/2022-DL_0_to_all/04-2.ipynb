{
 "cells": [
  {
   "cell_type": "markdown",
   "id": "66f416a3-29c6-4d88-87b1-6a241dba15c7",
   "metadata": {},
   "source": [
    "# Lab-04-2 Loading Data\n",
    "\n",
    "- Multivariate Linear Regression 복습\n",
    "- \"Minibatch\" Gradient Descent 이론\n",
    "- PyTorch Dataset and DataLoader 사용법\n",
    "\n",
    "- 복잡한 머신러닝 모델을 학습하려면 엄청난 양의 데이터가 필요하다!\n",
    "- 대부분의 데이터셋은 적어도 수십만 개의 데이터를 제공한다.\n",
    "    - 영상 처리에서 유명한 데이터셋 : IMAGENET (14,197,122 개의 이미지)\n",
    "    \n",
    "- 엄청난 양의 데이터를 한번에 학습시킬 수 없다!\n",
    "- 그렇다면 일부분의 데이터로만 학습하면 어떨까?"
   ]
  },
  {
   "cell_type": "markdown",
   "id": "bd77010a-37cf-416b-9b50-13eb47ce8c2a",
   "metadata": {},
   "source": [
    "## Minibatch Gradient Descent\n",
    "- 전체 데이터를 균일하게 나눠서 학습하자!\n",
    "\n",
    "전체 데이터 -> Minibatch 1~5\n",
    "\n",
    "- 업데이트를 좀 더 빠르게 할 수 있다.\n",
    "- 전체 데이터를 쓰지 않아서 잘못된 방향으로 업데이트를 할 수도 있다.\n",
    "- Batch gradient descent에 비해 스무스하게 줄어들지 않고 좀 변동이 있을 수 있다.\n",
    "\n",
    "- 데이터셋을 미니배치로 쪼개는 데 사용하는 PyTorch Dataset, DataLoader 모듈에 대해 알아보자."
   ]
  },
  {
   "cell_type": "code",
   "execution_count": 1,
   "id": "aada263b-2251-42d9-8ff7-68a9bd82cc78",
   "metadata": {},
   "outputs": [],
   "source": [
    "from torch.utils.data import Dataset\n",
    "\n",
    "class CustomDataset(Dataset):\n",
    "    def __init__(self):\n",
    "        self.x_data = [[73, 80, 75],\n",
    "                       [93, 88, 93],\n",
    "                       [89, 91, 90],\n",
    "                       [96, 98, 100],\n",
    "                       [73, 66, 70]]\n",
    "        self.y_data = [[152], [185], [180], [196], [142]]\n",
    "        \n",
    "    def __len__(self):\n",
    "        return len(self.x_data)\n",
    "    \n",
    "    def __getitem__(self, idx):\n",
    "        x = torch.FloatTensor(self.x_data[idx])\n",
    "        y = torch.FloatTensor(self.y_data[idx])\n",
    "        \n",
    "        return x, y\n",
    "\n",
    "dataset = CustomDataset()"
   ]
  },
  {
   "cell_type": "markdown",
   "id": "b81ed8b6-40cd-4feb-8999-f104db5bf758",
   "metadata": {},
   "source": [
    "* `torch.utils.data.Dataset` 상속\n",
    "* `__len__()`\n",
    "    * 이 데이터셋의 총 데이터 수\n",
    "* `__getitem__()`\n",
    "    * 어떠한 인덱스 `idx`를 받았을 때, 그에 상응하는 입출력 데이터 반환"
   ]
  },
  {
   "cell_type": "markdown",
   "id": "bbef9977-794f-42f0-98e4-c67872dee444",
   "metadata": {},
   "source": [
    "## PyTorch DataLoader\n",
    "- `torch.utils.data.DataLoader` 사용\n",
    "- `batch_size=2`\n",
    "    - 각 minibatch의 크기\n",
    "    - 통상적으로 2의 제곱수로 설정한다. (16, 32, 64, 128, 256, 512, ...)\n",
    "- `shuffle=True`\n",
    "    - Epoch마다 데이터셋을 섞어서 데이터가 학습되는 순서를 바꾼다."
   ]
  },
  {
   "cell_type": "markdown",
   "id": "a544de1f-71b6-428b-bfec-1c19cfeb364f",
   "metadata": {},
   "source": [
    "- `enumerate(dataloader)` : minibatch 인덱스와 데이터를 받음.\n",
    "- `len(dataloader)` : 한 epoch 당 minibatch 개수"
   ]
  },
  {
   "cell_type": "code",
   "execution_count": 2,
   "id": "d53f8b96-a778-46a9-bc24-794813192f47",
   "metadata": {},
   "outputs": [
    {
     "name": "stdout",
     "output_type": "stream",
     "text": [
      "Epoch    0/20 Batch 1/3 Cost: 53503.109375\n",
      "Epoch    0/20 Batch 2/3 Cost: 12074.336914\n",
      "Epoch    0/20 Batch 3/3 Cost: 2988.027100\n",
      "Epoch    1/20 Batch 1/3 Cost: 1685.880859\n",
      "Epoch    1/20 Batch 2/3 Cost: 537.744263\n",
      "Epoch    1/20 Batch 3/3 Cost: 167.021790\n",
      "Epoch    2/20 Batch 1/3 Cost: 74.356964\n",
      "Epoch    2/20 Batch 2/3 Cost: 7.075104\n",
      "Epoch    2/20 Batch 3/3 Cost: 2.564416\n",
      "Epoch    3/20 Batch 1/3 Cost: 5.479868\n",
      "Epoch    3/20 Batch 2/3 Cost: 0.089473\n",
      "Epoch    3/20 Batch 3/3 Cost: 8.633569\n",
      "Epoch    4/20 Batch 1/3 Cost: 2.619488\n",
      "Epoch    4/20 Batch 2/3 Cost: 2.284624\n",
      "Epoch    4/20 Batch 3/3 Cost: 3.202001\n",
      "Epoch    5/20 Batch 1/3 Cost: 2.426617\n",
      "Epoch    5/20 Batch 2/3 Cost: 3.003861\n",
      "Epoch    5/20 Batch 3/3 Cost: 2.844825\n",
      "Epoch    6/20 Batch 1/3 Cost: 1.141958\n",
      "Epoch    6/20 Batch 2/3 Cost: 2.662566\n",
      "Epoch    6/20 Batch 3/3 Cost: 6.131699\n",
      "Epoch    7/20 Batch 1/3 Cost: 2.045546\n",
      "Epoch    7/20 Batch 2/3 Cost: 1.766446\n",
      "Epoch    7/20 Batch 3/3 Cost: 4.948683\n",
      "Epoch    8/20 Batch 1/3 Cost: 2.483003\n",
      "Epoch    8/20 Batch 2/3 Cost: 2.729338\n",
      "Epoch    8/20 Batch 3/3 Cost: 1.321924\n",
      "Epoch    9/20 Batch 1/3 Cost: 1.010628\n",
      "Epoch    9/20 Batch 2/3 Cost: 5.263666\n",
      "Epoch    9/20 Batch 3/3 Cost: 1.946803\n",
      "Epoch   10/20 Batch 1/3 Cost: 1.826217\n",
      "Epoch   10/20 Batch 2/3 Cost: 2.980745\n",
      "Epoch   10/20 Batch 3/3 Cost: 0.798604\n",
      "Epoch   11/20 Batch 1/3 Cost: 0.421199\n",
      "Epoch   11/20 Batch 2/3 Cost: 5.303447\n",
      "Epoch   11/20 Batch 3/3 Cost: 3.001233\n",
      "Epoch   12/20 Batch 1/3 Cost: 3.443023\n",
      "Epoch   12/20 Batch 2/3 Cost: 0.888361\n",
      "Epoch   12/20 Batch 3/3 Cost: 3.792438\n",
      "Epoch   13/20 Batch 1/3 Cost: 1.919637\n",
      "Epoch   13/20 Batch 2/3 Cost: 1.109246\n",
      "Epoch   13/20 Batch 3/3 Cost: 5.862818\n",
      "Epoch   14/20 Batch 1/3 Cost: 1.143453\n",
      "Epoch   14/20 Batch 2/3 Cost: 2.706657\n",
      "Epoch   14/20 Batch 3/3 Cost: 3.316983\n",
      "Epoch   15/20 Batch 1/3 Cost: 3.332444\n",
      "Epoch   15/20 Batch 2/3 Cost: 1.127902\n",
      "Epoch   15/20 Batch 3/3 Cost: 3.910721\n",
      "Epoch   16/20 Batch 1/3 Cost: 2.702854\n",
      "Epoch   16/20 Batch 2/3 Cost: 2.117043\n",
      "Epoch   16/20 Batch 3/3 Cost: 2.724394\n",
      "Epoch   17/20 Batch 1/3 Cost: 3.296447\n",
      "Epoch   17/20 Batch 2/3 Cost: 1.513805\n",
      "Epoch   17/20 Batch 3/3 Cost: 2.382448\n",
      "Epoch   18/20 Batch 1/3 Cost: 2.647789\n",
      "Epoch   18/20 Batch 2/3 Cost: 1.505296\n",
      "Epoch   18/20 Batch 3/3 Cost: 4.752900\n",
      "Epoch   19/20 Batch 1/3 Cost: 2.501684\n",
      "Epoch   19/20 Batch 2/3 Cost: 2.690140\n",
      "Epoch   19/20 Batch 3/3 Cost: 1.287347\n",
      "Epoch   20/20 Batch 1/3 Cost: 1.739045\n",
      "Epoch   20/20 Batch 2/3 Cost: 2.868083\n",
      "Epoch   20/20 Batch 3/3 Cost: 0.850444\n"
     ]
    }
   ],
   "source": [
    "import torch\n",
    "import torch.optim as optim\n",
    "import torch.nn as nn\n",
    "import torch.nn.functional as F\n",
    "from torch.utils.data import DataLoader\n",
    "\n",
    "dataloader = DataLoader(dataset, batch_size=2, shuffle=True)\n",
    "\n",
    "# 모델 초기화\n",
    "model = nn.Linear(3, 1)\n",
    "\n",
    "# optimizer 설정\n",
    "optimizer = optim.SGD(model.parameters(), lr=1e-5)\n",
    "\n",
    "nb_epochs = 20\n",
    "for epoch in range(nb_epochs + 1):\n",
    "    for batch_idx, samples in enumerate(dataloader):\n",
    "        x_train, y_train = samples\n",
    "        # H(x) 계산\n",
    "        prediction = model(x_train)\n",
    "        \n",
    "        # cost 계산\n",
    "        cost = F.mse_loss(prediction, y_train)\n",
    "        \n",
    "        # cost로 H(x) 개선\n",
    "        optimizer.zero_grad()\n",
    "        cost.backward()\n",
    "        optimizer.step()\n",
    "        \n",
    "        print(\"Epoch {:4d}/{} Batch {}/{} Cost: {:.6f}\".format(\n",
    "            epoch, nb_epochs, batch_idx+1, len(dataloader),\n",
    "            cost.item()\n",
    "        ))"
   ]
  },
  {
   "cell_type": "markdown",
   "id": "545b839f-131b-43c9-a597-e08be94c3931",
   "metadata": {},
   "source": [
    "## What's Next?\n",
    "- 지금까지는 어떠한 숫자 하나를 예측하는 모델을 만들었다.\n",
    "- 분류하는 모델은 어떻게 만들 수 있을까? (Feat. Decision Boundary)"
   ]
  }
 ],
 "metadata": {
  "kernelspec": {
   "display_name": "Python 3 (ipykernel)",
   "language": "python",
   "name": "python3"
  },
  "language_info": {
   "codemirror_mode": {
    "name": "ipython",
    "version": 3
   },
   "file_extension": ".py",
   "mimetype": "text/x-python",
   "name": "python",
   "nbconvert_exporter": "python",
   "pygments_lexer": "ipython3",
   "version": "3.9.13"
  }
 },
 "nbformat": 4,
 "nbformat_minor": 5
}
