{
 "cells": [
  {
   "cell_type": "markdown",
   "id": "dc142134-abb5-47ce-87d9-28ee625c099e",
   "metadata": {},
   "source": [
    "# Lab-11-5 RNN seq2seq\n",
    "- Seq2Seq\n",
    "- Apply Seq2Seq\n",
    "    - Encoder - Decoder\n",
    "    - Data Preprocessing\n",
    "    - Neural Net Setting\n",
    "    - Training\n",
    "    - Evaluation"
   ]
  },
  {
   "cell_type": "markdown",
   "id": "e63c34a3-2d48-4b23-8622-6148cfb1d508",
   "metadata": {},
   "source": [
    "**What is the difference between general RNN model and Seq2Seq model?**\n",
    "\n",
    "Seq2Seq2는 번역이나 챗봇에서 효과가 좋음.\n",
    "\n",
    "## Example : Chatbot\n",
    "\n",
    "특징 : ENCODER, DECODER\n",
    "\n",
    "- ENCODER (Incoming Email) : 입력된 단어들의 시퀀스(문장)를 어떤 벡터로 압축 -> decoder에 전달\n",
    "- DECODER (Reply) : 받은 벡터를 첫 셀의 히든 state에 넣어줌. 그리고 start 플래그와 함께 시작. 첫 아웃풋이 나오는데 그걸 다음 셀의 입력으로 같이 줌."
   ]
  },
  {
   "cell_type": "markdown",
   "id": "e12c40b3-f805-4b19-bf4e-d8883dfce7f2",
   "metadata": {},
   "source": [
    "아래는 영어->한국어 번역에 대한 Encoder-Decoder 예시"
   ]
  },
  {
   "cell_type": "code",
   "execution_count": 1,
   "id": "7c7cf18b-0788-4c0a-8996-714c6badbe1e",
   "metadata": {},
   "outputs": [],
   "source": [
    "# main reference\n",
    "# https://pytorch.org/tutorials/intermediate/seq2seq_translation_tutorial.html"
   ]
  },
  {
   "cell_type": "code",
   "execution_count": null,
   "id": "feaed42c-5ec1-4a5e-a129-c91ace3a242d",
   "metadata": {},
   "outputs": [],
   "source": [
    "import random\n",
    "import torch\n",
    "import torch.nn as nn\n",
    "from torch import optim"
   ]
  },
  {
   "cell_type": "code",
   "execution_count": null,
   "id": "8e07fd2a-203a-4309-8d1b-027828fb5e63",
   "metadata": {},
   "outputs": [],
   "source": [
    "torch.manual_seed(0)\n",
    "device = torch.device(\"cuda\" if torch.cuda.is_available() else \"cpu\")"
   ]
  },
  {
   "cell_type": "code",
   "execution_count": null,
   "id": "0bd6e80e-6f70-4b3f-b2ae-1694735e8491",
   "metadata": {},
   "outputs": [],
   "source": [
    "raw = [\"I feel hungry.\t나는 배가 고프다.\",\n",
    "       \"Pytorch is very easy.\t파이토치는 매우 쉽다.\",\n",
    "       \"Pytorch is a framework for deep learning.\t파이토치는 딥러닝을 위한 프레임워크이다.\",\n",
    "       \"Pytorch is very clear to use.\t파이토치는 사용하기 매우 직관적이다.\"]"
   ]
  },
  {
   "cell_type": "code",
   "execution_count": null,
   "id": "ce962e41-160a-4f78-897e-281570795225",
   "metadata": {},
   "outputs": [],
   "source": [
    "# fix token for \"start of sentence\" and \"end of sentence\"\n",
    "SOS_token = 0\n",
    "EOS_token = 1\n",
    "# SOS는 디코더에 맨처음에 넣을 때 신호. 후자는 문장이 다 끝까지 간게 아니라 여기서 끝났다 이런 표시"
   ]
  },
  {
   "cell_type": "code",
   "execution_count": null,
   "id": "5628354f-afe1-4bf5-85a7-97d85ef5ece1",
   "metadata": {},
   "outputs": [],
   "source": [
    "# class for vocabulary related information of data\n",
    "class Vocab:\n",
    "    def __init__(self):\n",
    "        self.vocab2index = {\"\": SOS_token, \"\": EOS_token}\n",
    "        self.index2vocab = {SOS_token: \"\", EOS_token: \"\"}\n",
    "        self.vocab_count = {}\n",
    "        self.n_vocab = len(self.vocab2index)\n",
    "\n",
    "    def add_vocab(self, sentence):\n",
    "        for word in sentence.split(\" \"):\n",
    "            if word not in self.vocab2index:\n",
    "                self.vocab2index[word] = self.n_vocab\n",
    "                self.vocab_count[word] = 1\n",
    "                self.index2vocab[self.n_vocab] = word\n",
    "                self.n_vocab += 1\n",
    "            else:\n",
    "                self.vocab_count[word] += 1"
   ]
  },
  {
   "cell_type": "code",
   "execution_count": null,
   "id": "b3964c18-9417-4f50-8868-48a03994c675",
   "metadata": {},
   "outputs": [],
   "source": [
    "# filter out the long sentence from source and target data\n",
    "def filter_pair(pair, source_max_length, target_max_length):\n",
    "    return len(pair[0].split(\" \")) < source_max_length and len(pair[1].split(\" \")) < target_max_length"
   ]
  },
  {
   "cell_type": "code",
   "execution_count": null,
   "id": "8f7d9479-d28c-4f7a-9698-93d05747d4b1",
   "metadata": {},
   "outputs": [],
   "source": [
    "# read and preprocess the corpus data\n",
    "def preprocess(corpus, source_max_length, target_max_length):\n",
    "    print(\"reading corpus...\")\n",
    "    pairs = []\n",
    "    for line in corpus:\n",
    "        pairs.append([s for s in line.strip().lower().split(\"\\t\")])\n",
    "    print(\"Read {} sentence pairs\".format(len(pairs)))\n",
    "\n",
    "    pairs = [pair for pair in pairs if filter_pair(pair, source_max_length, target_max_length)]\n",
    "    print(\"Trimmed to {} sentence pairs\".format(len(pairs)))\n",
    "\n",
    "    source_vocab = Vocab()\n",
    "    target_vocab = Vocab()\n",
    "\n",
    "    print(\"Counting words...\")\n",
    "    for pair in pairs:\n",
    "        source_vocab.add_vocab(pair[0])\n",
    "        target_vocab.add_vocab(pair[1])\n",
    "    print(\"source vocab size =\", source_vocab.n_vocab)\n",
    "    print(\"target vocab size =\", target_vocab.n_vocab)\n",
    "\n",
    "    return pairs, source_vocab, target_vocab\n"
   ]
  },
  {
   "cell_type": "code",
   "execution_count": null,
   "id": "22665897-c815-41db-ade8-020e21978b35",
   "metadata": {},
   "outputs": [],
   "source": [
    "# declare simple encoder\n",
    "class Encoder(nn.Module):\n",
    "    def __init__(self, input_size, hidden_size):\n",
    "        super(Encoder, self).__init__()\n",
    "        self.hidden_size = hidden_size\n",
    "        self.embedding = nn.Embedding(input_size, hidden_size)   # input_size -> hidden_size로 벡터 줄임!\n",
    "        self.gru = nn.GRU(hidden_size, hidden_size)\n",
    "\n",
    "    def forward(self, x, hidden):\n",
    "        x = self.embedding(x).view(1, 1, -1)\n",
    "        x, hidden = self.gru(x, hidden)\n",
    "        return x, hidden\n"
   ]
  },
  {
   "cell_type": "code",
   "execution_count": null,
   "id": "db6da3e7-8b19-4ecb-96fe-9028b949a086",
   "metadata": {},
   "outputs": [],
   "source": [
    "# declare simple decoder\n",
    "class Decoder(nn.Module):\n",
    "    def __init__(self, hidden_size, output_size):\n",
    "        super(Decoder, self).__init__()\n",
    "        self.hidden_size = hidden_size\n",
    "        self.embedding = nn.Embedding(output_size, hidden_size)\n",
    "        self.gru = nn.GRU(hidden_size, hidden_size)\n",
    "        self.out = nn.Linear(hidden_size, output_size)\n",
    "        self.softmax = nn.LogSoftmax(dim=1)\n",
    "\n",
    "    def forward(self, x, hidden):\n",
    "        x = self.embedding(x).view(1, 1, -1)\n",
    "        x, hidden = self.gru(x, hidden)\n",
    "        x = self.softmax(self.out(x[0]))\n",
    "        return x, hidden"
   ]
  },
  {
   "cell_type": "code",
   "execution_count": null,
   "id": "3efa4e20-c86b-4141-bdee-097eda73f3b3",
   "metadata": {},
   "outputs": [],
   "source": [
    "# convert sentence to the index tensor\n",
    "def tensorize(vocab, sentence):\n",
    "    indexes = [vocab.vocab2index[word] for word in sentence.split(\" \")]\n",
    "    indexes.append(vocab.vocab2index[\"\"])\n",
    "    return torch.Tensor(indexes).long().to(device).view(-1, 1)"
   ]
  },
  {
   "cell_type": "code",
   "execution_count": null,
   "id": "3a6ef3b5-886c-4147-9b69-e967ddf7af8a",
   "metadata": {},
   "outputs": [],
   "source": [
    "# training seq2seq\n",
    "def train(pairs, source_vocab, target_vocab, encoder, decoder, n_iter, print_every=1000, learning_rate=0.01):\n",
    "    loss_total = 0\n",
    "\n",
    "    encoder_optimizer = optim.SGD(encoder.parameters(), lr=learning_rate)\n",
    "    decoder_optimizer = optim.SGD(decoder.parameters(), lr=learning_rate)\n",
    "\n",
    "    training_batch = [random.choice(pairs) for _ in range(n_iter)]\n",
    "    training_source = [tensorize(source_vocab, pair[0]) for pair in training_batch]\n",
    "    training_target = [tensorize(target_vocab, pair[1]) for pair in training_batch]\n",
    "\n",
    "    criterion = nn.NLLLoss()\n",
    "\n",
    "    for i in range(1, n_iter + 1):\n",
    "        source_tensor = training_source[i - 1]\n",
    "        target_tensor = training_target[i - 1]\n",
    "\n",
    "        encoder_hidden = torch.zeros([1, 1, encoder.hidden_size]).to(device)\n",
    "\n",
    "        encoder_optimizer.zero_grad()\n",
    "        decoder_optimizer.zero_grad()\n",
    "\n",
    "        source_length = source_tensor.size(0)\n",
    "        target_length = target_tensor.size(0)\n",
    "\n",
    "        loss = 0\n",
    "\n",
    "        for enc_input in range(source_length):\n",
    "            _, encoder_hidden = encoder(source_tensor[enc_input], encoder_hidden)\n",
    "\n",
    "        decoder_input = torch.Tensor([[SOS_token]]).long().to(device)\n",
    "        decoder_hidden = encoder_hidden # connect encoder output to decoder input\n",
    "\n",
    "        for di in range(target_length):\n",
    "            decoder_output, decoder_hidden = decoder(decoder_input, decoder_hidden)\n",
    "            loss += criterion(decoder_output, target_tensor[di])\n",
    "            decoder_input = target_tensor[di]  # teacher forcing\n",
    "            # teacher forcing : 그냥 정답 넣어주기. GRU로 학습된 출력을 다음 셀의 입력에 넣어주는 것보다 학습 빠르지만, 학습이 불안정해질 수 있어 랜덤(50% 같은)으로 사용할 때가 많음.\n",
    "\n",
    "        loss.backward()\n",
    "\n",
    "        encoder_optimizer.step()\n",
    "        decoder_optimizer.step()\n",
    "\n",
    "        loss_iter = loss.item() / target_length\n",
    "        loss_total += loss_iter\n",
    "\n",
    "        if i % print_every == 0:\n",
    "            loss_avg = loss_total / print_every\n",
    "            loss_total = 0\n",
    "            print(\"[{} - {}%] loss = {:05.4f}\".format(i, i / n_iter * 100, loss_avg))\n"
   ]
  },
  {
   "cell_type": "code",
   "execution_count": null,
   "id": "d41b166c-9942-4f66-abd3-e00d8b3328db",
   "metadata": {},
   "outputs": [],
   "source": [
    "# insert given sentence to check the training\n",
    "def evaluate(pairs, source_vocab, target_vocab, encoder, decoder, target_max_length):\n",
    "    for pair in pairs:\n",
    "        print(\">\", pair[0])\n",
    "        print(\"=\", pair[1])\n",
    "        source_tensor = tensorize(source_vocab, pair[0])\n",
    "        source_length = source_tensor.size()[0]\n",
    "        encoder_hidden = torch.zeros([1, 1, encoder.hidden_size]).to(device)\n",
    "\n",
    "        for ei in range(source_length):\n",
    "            _, encoderㅠ_hidden = encoder(source_tensor[ei], encoder_hidden)\n",
    "\n",
    "        decoder_input = torch.Tensor([[SOS_token]], device=device).long()\n",
    "        decoder_hidden = encoder_hidden\n",
    "        decoded_words = []\n",
    "\n",
    "        for di in range(target_max_length):\n",
    "            decoder_output, decoder_hidden = decoder(decoder_input, decoder_hidden)\n",
    "            _, top_index = decoder_output.data.topk(1)\n",
    "            if top_index.item() == EOS_token:\n",
    "                decoded_words.append(\"\")\n",
    "                break\n",
    "            else:\n",
    "                decoded_words.append(target_vocab.index2vocab[top_index.item()])\n",
    "\n",
    "            decoder_input = top_index.squeeze().detach()\n",
    "\n",
    "        predict_words = decoded_words\n",
    "        predict_sentence = \" \".join(predict_words)\n",
    "        print(\"<\", predict_sentence)\n",
    "        print(\"\")\n"
   ]
  },
  {
   "cell_type": "markdown",
   "id": "36475612-83f3-4e6f-8ba8-2300ddfe791f",
   "metadata": {},
   "source": [
    "아래가 엑기스"
   ]
  },
  {
   "cell_type": "code",
   "execution_count": null,
   "id": "883320bf-e02b-4140-a992-267808248af0",
   "metadata": {},
   "outputs": [],
   "source": [
    "# declare max length for sentence\n",
    "SOURCE_MAX_LENGTH = 10\n",
    "TARGET_MAX_LENGTH = 12"
   ]
  },
  {
   "cell_type": "code",
   "execution_count": null,
   "id": "2d0e8f99-976f-4964-92de-e02ee6133164",
   "metadata": {},
   "outputs": [],
   "source": [
    "# preprocess the corpus\n",
    "load_pairs, load_source_vocab, load_target_vocab = preprocess(raw, SOURCE_MAX_LENGTH, TARGET_MAX_LENGTH)\n",
    "# 입력 소스, 출력 타깃 문장 길이 제한 걸기.\n",
    "\n",
    "print(random.choice(load_pairs))"
   ]
  },
  {
   "cell_type": "code",
   "execution_count": null,
   "id": "a9f3079b-a0d3-4cee-92e9-5f21045a8fb9",
   "metadata": {},
   "outputs": [],
   "source": [
    "# declare the encoder and the decoder\n",
    "enc_hidden_size = 16\n",
    "dec_hidden_size = enc_hidden_size\n",
    "enc = Encoder(load_source_vocab.n_vocab, enc_hidden_size).to(device)\n",
    "dec = Decoder(dec_hidden_size, load_target_vocab.n_vocab).to(device)"
   ]
  },
  {
   "cell_type": "code",
   "execution_count": null,
   "id": "03ad1ecc-9dc5-4346-8faa-07b6fbf31631",
   "metadata": {},
   "outputs": [],
   "source": [
    "# train seq2seq model\n",
    "train(load_pairs, load_source_vocab, load_target_vocab, enc, dec, 5000, print_every=1000)"
   ]
  },
  {
   "cell_type": "code",
   "execution_count": null,
   "id": "8d56f529-9258-4aef-92ee-f99b5637ea9c",
   "metadata": {},
   "outputs": [],
   "source": [
    "# check the model with given data\n",
    "evaluate(load_pairs, load_source_vocab, load_target_vocab, enc, dec, TARGET_MAX_LENGTH)"
   ]
  },
  {
   "cell_type": "markdown",
   "id": "fe382104-9b49-461e-b7ef-eca74b0333a1",
   "metadata": {},
   "source": [
    "## What's Next?\n",
    "- Sequential data treatment in PyTorch"
   ]
  },
  {
   "cell_type": "code",
   "execution_count": null,
   "id": "ba187c2e-9c27-4bd6-8a54-be0670654c1c",
   "metadata": {},
   "outputs": [],
   "source": []
  }
 ],
 "metadata": {
  "kernelspec": {
   "display_name": "Python 3 (ipykernel)",
   "language": "python",
   "name": "python3"
  },
  "language_info": {
   "codemirror_mode": {
    "name": "ipython",
    "version": 3
   },
   "file_extension": ".py",
   "mimetype": "text/x-python",
   "name": "python",
   "nbconvert_exporter": "python",
   "pygments_lexer": "ipython3",
   "version": "3.9.13"
  }
 },
 "nbformat": 4,
 "nbformat_minor": 5
}
